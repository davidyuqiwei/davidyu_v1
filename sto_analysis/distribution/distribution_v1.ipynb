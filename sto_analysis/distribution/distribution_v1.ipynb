{
 "cells": [
  {
   "cell_type": "code",
   "execution_count": 1,
   "metadata": {},
   "outputs": [
    {
     "name": "stdout",
     "output_type": "stream",
     "text": [
      "the path define is in G:\\stock\\code\\package_path_define\n"
     ]
    }
   ],
   "source": [
    "# %load big_volume.py\n",
    "import os\n",
    "import sys\n",
    "#from load_path import *\n",
    "import numpy as np\n",
    "#import pandas as pd\n",
    "import datetime\n",
    "#from numpy._distributor_init import NUMPY_MKL\n",
    "import re\n",
    "from datetime import datetime\n",
    "import itertools\n",
    "from package_path_define.path_define import *\n",
    "from package_readdata.read_data import * # load read data function\n",
    "import matplotlib.pyplot as plt\n",
    "\n",
    "\n"
   ]
  },
  {
   "cell_type": "code",
   "execution_count": null,
   "metadata": {
    "collapsed": true
   },
   "outputs": [],
   "source": []
  },
  {
   "cell_type": "code",
   "execution_count": 61,
   "metadata": {
    "collapsed": true
   },
   "outputs": [],
   "source": [
    "def get_data(stk_num,path_in,date1,date2):\n",
    "    if stk_num[:2]=='60':\n",
    "        market='shanghai'\n",
    "    elif stk_num[:2]=='00':\n",
    "        market='shenzhen'\n",
    "    else:\n",
    "        print 'the stock number input is wrong'\n",
    "        os._exit()\n",
    "    stock_path1='\\\\'.join([path_in,market,stk_num])\n",
    "    stk_list=os.listdir(stock_path1)\n",
    "    num_in=find_stocks_in_date_range(stock_path1,date1,date2)\n",
    "    price_all=[]\n",
    "    vol_all=[]\n",
    "    if len(num_in)>0:\n",
    "        for fi1 in num_in:\n",
    "            try:\n",
    "                data_file='\\\\'.join([path_in,market,stk_num,stk_list[fi1]])\n",
    "                #print data_file\n",
    "                df1=read_vol_price_data(data_file)\n",
    "                total1=df1.volume.values.tolist() ## pandas value to list\n",
    "                price1=df1.price.values.tolist()\n",
    "                vol=[a/b for a, b in zip(total1,price1)]\n",
    "                price_all.append(price1)\n",
    "                vol_all.append(vol)\n",
    "            except:\n",
    "                #print 'fuck'\n",
    "                pass\n",
    "    else:\n",
    "        print 'no data'\n",
    "    return price_all,vol_all"
   ]
  },
  {
   "cell_type": "code",
   "execution_count": 63,
   "metadata": {},
   "outputs": [
    {
     "name": "stdout",
     "output_type": "stream",
     "text": [
      "G:\\\\stock\\\\data\\\\daily_price_volume\n",
      "5\n",
      "<type 'list'>\n",
      "10795\n"
     ]
    },
    {
     "data": {
      "text/plain": [
       "552820.0"
      ]
     },
     "execution_count": 63,
     "metadata": {},
     "output_type": "execute_result"
    }
   ],
   "source": [
    "stock_index_file=\"shanghai_shenzhen_data_from_2013\"\n",
    "stock_path='\\\\'.join([main_path_data,stock_index_file,market])\n",
    "sto2=os.listdir(stock_path)\n",
    "# define: date and market\n",
    "date1=datetime(2015,1,11).strftime('%Y-%m-%d')\n",
    "date2=datetime(2015,1,15).strftime('%Y-%m-%d')\n",
    "\n",
    "stk_num=\"000917\"\n",
    "price_all,vol_all=get_data(stk_num,path_price_volume,date1,date2)\n",
    "print path_price_volume\n",
    "#print price_all[1]\n",
    "print len(price_all)\n",
    "print type(price_all)\n",
    "price_all1 = list(itertools.chain(*price_all))\n",
    "vol_all1 = list(itertools.chain(*vol_all))\n",
    "print len(price_all1)\n",
    "np.max(vol_all1)"
   ]
  },
  {
   "cell_type": "code",
   "execution_count": 64,
   "metadata": {},
   "outputs": [
    {
     "data": {
      "image/png": "[encoded data removed]",
      "text/plain": [
       "<matplotlib.figure.Figure at 0xecc2fd0>"
      ]
     },
     "metadata": {},
     "output_type": "display_data"
    }
   ],
   "source": [
    "df1=pd.DataFrame({'price':price_all1,'volume':vol_all1})\n",
    "df2=df1.groupby(['price'])['volume'].sum()\n",
    "#print df2\n",
    "df2.hist(bins=10)\n",
    "df2.plot(kind='bar')\n",
    "plt.show()"
   ]
  },
  {
   "cell_type": "code",
   "execution_count": 40,
   "metadata": {
    "collapsed": true
   },
   "outputs": [
    {
     "name": "stdout",
     "output_type": "stream",
     "text": [
      "      price        volume\n",
      "0     14.43   32300.00000\n",
      "1     14.43       0.00000\n",
      "2     14.44   23200.00000\n",
      "3     14.44   16600.00000\n",
      "4     14.45    1200.00000\n",
      "5     14.45    2000.00000\n",
      "6     14.45    5000.00000\n",
      "7     14.45    2000.00000\n",
      "8     14.45    2000.00000\n",
      "9     14.45     900.00000\n",
      "10    14.44     100.00000\n",
      "11    14.45     500.00000\n",
      "12    14.44    6300.00000\n",
      "13    14.44    3400.00000\n",
      "14    14.44     700.00000\n",
      "15    14.44    2000.00000\n",
      "16    14.44    3900.00000\n",
      "17    14.43    4100.00000\n",
      "18    14.43     500.00000\n",
      "19    14.43    1400.00000\n",
      "20    14.43    3400.00000\n",
      "21    14.44    1300.00000\n",
      "22    14.43    2400.00000\n",
      "23    14.43    3639.98614\n",
      "24    14.43   10200.00000\n",
      "25    14.43    7300.00000\n",
      "26    14.43    2900.00000\n",
      "27    14.43    4059.94456\n",
      "28    14.42    2000.00000\n",
      "29    14.43    8500.00000\n",
      "...     ...           ...\n",
      "6012  13.93    1500.00000\n",
      "6013  13.93     800.00000\n",
      "6014  13.94    2000.00000\n",
      "6015  13.94    3000.00000\n",
      "6016  13.93    8700.00000\n",
      "6017  13.92   40700.00000\n",
      "6018  13.94     500.00000\n",
      "6019  13.93    5900.00000\n",
      "6020  13.93    3600.00000\n",
      "6021  13.93    4600.00000\n",
      "6022  13.93    1500.00000\n",
      "6023  13.94    8400.00000\n",
      "6024  13.94     600.00000\n",
      "6025  13.93    2700.00000\n",
      "6026  13.93    2600.00000\n",
      "6027  13.93    4900.00000\n",
      "6028  13.93    1700.00000\n",
      "6029  13.94   11200.00000\n",
      "6030  13.94    3200.00000\n",
      "6031  13.93    1000.00000\n",
      "6032  13.94     500.00000\n",
      "6033  13.93   10600.00000\n",
      "6034  13.93    3200.00000\n",
      "6035  13.94     400.00000\n",
      "6036  13.93    3400.00000\n",
      "6037  13.93   18600.00000\n",
      "6038  13.93    2900.00000\n",
      "6039  13.94    3000.00000\n",
      "6040  13.92    1300.00000\n",
      "6041  13.90  487500.00000\n",
      "\n",
      "[6042 rows x 2 columns]\n"
     ]
    }
   ],
   "source": [
    "print df1"
   ]
  },
  {
   "cell_type": "code",
   "execution_count": 54,
   "metadata": {},
   "outputs": [
    {
     "name": "stdout",
     "output_type": "stream",
     "text": [
      "G:\\\\stock\\\\data\\\\fuquan\\shenzhen\\000917\n"
     ]
    }
   ],
   "source": [
    "market='shenzhen'\n",
    "year1=2015\n",
    "year2=2016\n",
    "\n",
    "path1='\\\\'.join([path_fuquan,market])\n",
    "sto1=os.listdir(path1)\n",
    "sto2='000917'\n",
    "#sto2=sto1[10]\n",
    "#print sto1\n",
    "stock_full_path='\\\\'.join([path1,sto2])\n",
    "print stock_full_path\n",
    "files=os.listdir(stock_full_path)\n",
    "file_num_in=find_stocks_in_date_range_fuquan(stock_full_path,year1,year2) #--- find the stock files in the year range we give\n",
    "\n",
    "\n",
    "def data_get(stock_full_path,files,file_num_in):\n",
    "    df_m1 = pd.DataFrame() ## create a blank dataframe\n",
    "    for num_in in file_num_in:\n",
    "        file_in='\\\\'.join([stock_full_path,files[num_in]])\n",
    "        #print file_in\n",
    "        df1=read_vol_price_data_fuquan(file_in)\n",
    "        df_m1=df_m1.append(df1,ignore_index=False)\n",
    "        #print df1.head()\n",
    "        #print len(df1)\n",
    "    date1=df_m1.date.values\n",
    "    years=[]\n",
    "    months=[]\n",
    "    for da in date1:\n",
    "        year=da[0:4]\n",
    "        month=da[5:7]\n",
    "        years.append(int(year))\n",
    "        months.append(int(month))\n",
    "    df_m1['year']=years\n",
    "    df_m1['month']=months\n",
    "    return df_m1\n",
    "data_df1=data_get(stock_full_path,files,file_num_in)"
   ]
  },
  {
   "cell_type": "code",
   "execution_count": 59,
   "metadata": {},
   "outputs": [
    {
     "name": "stdout",
     "output_type": "stream",
     "text": [
      "          date     open     high    close      low      volume  trade_amount  \\\n",
      "53  2016-01-11  148.749  151.097  139.119  139.119  68713704.0  1.268613e+09   \n",
      "52  2016-01-12  139.745  143.660  140.293  136.144  53668972.0  9.650943e+08   \n",
      "51  2016-01-13  141.781  142.955  131.603  127.611  58006984.0  1.024517e+09   \n",
      "50  2016-01-14  126.515  140.450  140.293  126.123  67750720.0  1.159414e+09   \n",
      "49  2016-01-15  139.510  142.485  134.735  132.699  66384612.0  1.173440e+09   \n",
      "48  2016-01-18  132.308  143.190  139.667  132.073  58675468.0  1.039557e+09   \n",
      "47  2016-01-19  138.806  145.226  144.208  137.632  69606120.0  1.261229e+09   \n",
      "46  2016-01-20  143.190  150.001  145.774  137.710  96072784.0  1.753398e+09   \n",
      "45  2016-01-21  141.076  144.756  133.717  133.169  66852452.0  1.201241e+09   \n",
      "44  2016-01-22  136.614  139.824  137.005  131.916  47717340.0  8.283644e+08   \n",
      "43  2016-01-25  137.945  141.233  139.745  137.083  40219100.0  7.147923e+08   \n",
      "42  2016-01-26  137.240  138.180  125.810  125.810  54989700.0  9.264074e+08   \n",
      "41  2016-01-27  126.749  129.333  129.098  119.782  64883436.0  1.038236e+09   \n",
      "40  2016-01-28  126.671  129.646  118.999  118.138  52062476.0  8.250343e+08   \n",
      "39  2016-01-29  118.999  128.707  125.888  117.277  58054928.0  9.167764e+08   \n",
      "38  2016-02-01  125.497  126.828  125.340  122.913  41732456.0  6.655754e+08   \n",
      "37  2016-02-02  125.497  132.386  129.959  125.340  53462460.0  8.865621e+08   \n",
      "36  2016-02-03  127.611  130.273  129.177  125.340  45948816.0  7.487613e+08   \n",
      "35  2016-02-04  129.255  133.013  131.447  129.255  51124320.0  8.559778e+08   \n",
      "34  2016-02-05  132.073  133.404  128.942  128.628  36903752.0  6.162728e+08   \n",
      "33  2016-02-15  124.401  127.532  125.654  123.070  31562644.0  5.058578e+08   \n",
      "32  2016-02-16  126.906  137.005  134.657  126.515  70443760.0  1.189335e+09   \n",
      "31  2016-02-17  134.891  139.041  139.041  133.247  72614768.0  1.260291e+09   \n",
      "30  2016-02-18  140.137  140.763  136.692  135.753  60295808.0  1.063080e+09   \n",
      "29  2016-02-19  136.692  140.763  140.059  135.831  56258532.0  9.922798e+08   \n",
      "28  2016-02-22  142.329  143.503  142.486  139.432  71002952.0  1.280989e+09   \n",
      "27  2016-02-23  142.485  142.485  138.884  137.084  52632884.0  9.375903e+08   \n",
      "26  2016-02-24  137.710  139.980  139.197  134.813  46749820.0  8.217346e+08   \n",
      "25  2016-02-25  138.493  138.806  125.262  125.262  60975236.0  1.022834e+09   \n",
      "24  2016-02-26  126.123  127.063  121.191  118.373  51933780.0  8.129884e+08   \n",
      "..         ...      ...      ...      ...      ...         ...           ...   \n",
      "29  2016-11-21  125.571  126.356  125.336  124.943  12834457.0  2.052491e+08   \n",
      "28  2016-11-22  125.336  126.435  126.356  125.336  16337999.0  2.621160e+08   \n",
      "27  2016-11-23  126.356  126.749  125.571  125.414  17858329.0  2.867771e+08   \n",
      "26  2016-11-24  125.414  125.728  123.609  123.295  24415755.0  3.874071e+08   \n",
      "25  2016-11-25  124.002  124.080  123.923  121.647  23755195.0  3.718173e+08   \n",
      "24  2016-11-28  124.002  125.493  123.452  123.217  25702158.0  4.072465e+08   \n",
      "23  2016-11-29  123.138  124.080  122.118  121.804  19232352.0  3.016544e+08   \n",
      "22  2016-11-30  121.804  123.138  122.354  121.726  15683765.0  2.443280e+08   \n",
      "21  2016-12-01  122.354  122.903  122.511  121.883  11945190.0  1.862268e+08   \n",
      "20  2016-12-02  122.275  122.511  118.273  117.959  29870472.0  4.555899e+08   \n",
      "19  2016-12-05  117.566  118.822  118.116  116.938  13953079.0  2.097938e+08   \n",
      "18  2016-12-06  118.116  120.548  119.214  117.723  18927784.0  2.874764e+08   \n",
      "17  2016-12-07  119.057  120.235  119.842  118.273  13408046.0  2.040676e+08   \n",
      "16  2016-12-08  120.313  120.705  119.685  119.293  12128395.0  1.852901e+08   \n",
      "15  2016-12-09  119.999  120.156  119.450  119.057  11703234.0  1.783935e+08   \n",
      "14  2016-12-12  119.528  119.764  111.916  111.759  23972923.0  3.518557e+08   \n",
      "13  2016-12-13  111.837  114.034  112.543  111.758  13077758.0  1.878170e+08   \n",
      "12  2016-12-14  112.622  112.779  110.503  110.346  13039490.0  1.850382e+08   \n",
      "11  2016-12-15  110.267  112.386  111.288  110.189   9062249.0  1.285837e+08   \n",
      "10  2016-12-16  112.308  115.604  114.427  112.308  21011387.0  3.060244e+08   \n",
      "9   2016-12-19  114.662  114.662  113.250  112.936   7097483.0  1.026103e+08   \n",
      "8   2016-12-20  113.093  113.956  113.721  113.014   6883130.0  9.944576e+07   \n",
      "7   2016-12-21  114.192  114.898  114.035  113.721   6905417.0  1.005203e+08   \n",
      "6   2016-12-22  113.485  113.799  112.857  112.700   6989495.0  1.007957e+08   \n",
      "5   2016-12-23  112.779  112.779  110.974  110.817   7978304.0  1.135036e+08   \n",
      "4   2016-12-26  110.503  111.445  111.131  109.326   8449496.0  1.188043e+08   \n",
      "3   2016-12-27  111.680  112.622  111.209  110.974   8293400.0  1.181787e+08   \n",
      "2   2016-12-28  111.288  111.523  110.424  110.424   7177369.0  1.014259e+08   \n",
      "1   2016-12-29  110.189  111.759  110.503  110.189   7005386.0  9.889047e+07   \n",
      "0   2016-12-30  110.660  114.427  112.936  110.346  18247904.0  2.621926e+08   \n",
      "\n",
      "    fuquan_factor  year  month  \n",
      "53          7.829  2016      1  \n",
      "52          7.829  2016      1  \n",
      "51          7.829  2016      1  \n",
      "50          7.829  2016      1  \n",
      "49          7.829  2016      1  \n",
      "48          7.829  2016      1  \n",
      "47          7.829  2016      1  \n",
      "46          7.829  2016      1  \n",
      "45          7.829  2016      1  \n",
      "44          7.829  2016      1  \n",
      "43          7.829  2016      1  \n",
      "42          7.829  2016      1  \n",
      "41          7.829  2016      1  \n",
      "40          7.829  2016      1  \n",
      "39          7.829  2016      1  \n",
      "38          7.829  2016      2  \n",
      "37          7.829  2016      2  \n",
      "36          7.829  2016      2  \n",
      "35          7.829  2016      2  \n",
      "34          7.829  2016      2  \n",
      "33          7.829  2016      2  \n",
      "32          7.829  2016      2  \n",
      "31          7.829  2016      2  \n",
      "30          7.829  2016      2  \n",
      "29          7.829  2016      2  \n",
      "28          7.829  2016      2  \n",
      "27          7.829  2016      2  \n",
      "26          7.829  2016      2  \n",
      "25          7.829  2016      2  \n",
      "24          7.829  2016      2  \n",
      "..            ...   ...    ...  \n",
      "29          7.848  2016     11  \n",
      "28          7.848  2016     11  \n",
      "27          7.848  2016     11  \n",
      "26          7.848  2016     11  \n",
      "25          7.848  2016     11  \n",
      "24          7.848  2016     11  \n",
      "23          7.848  2016     11  \n",
      "22          7.848  2016     11  \n",
      "21          7.848  2016     12  \n",
      "20          7.848  2016     12  \n",
      "19          7.848  2016     12  \n",
      "18          7.848  2016     12  \n",
      "17          7.848  2016     12  \n",
      "16          7.848  2016     12  \n",
      "15          7.848  2016     12  \n",
      "14          7.848  2016     12  \n",
      "13          7.848  2016     12  \n",
      "12          7.848  2016     12  \n",
      "11          7.848  2016     12  \n",
      "10          7.848  2016     12  \n",
      "9           7.848  2016     12  \n",
      "8           7.848  2016     12  \n",
      "7           7.848  2016     12  \n",
      "6           7.848  2016     12  \n",
      "5           7.848  2016     12  \n",
      "4           7.848  2016     12  \n",
      "3           7.848  2016     12  \n",
      "2           7.848  2016     12  \n",
      "1           7.848  2016     12  \n",
      "0           7.848  2016     12  \n",
      "\n",
      "[194 rows x 10 columns]\n"
     ]
    }
   ],
   "source": [
    "#print data_df1\n",
    "df3=data_df1[(data_df1.date>=date1)&(data_df1.date<=date2)]\n",
    "print df3"
   ]
  },
  {
   "cell_type": "code",
   "execution_count": null,
   "metadata": {
    "collapsed": true
   },
   "outputs": [],
   "source": [
    "def data_get(stock_full_path,files,file_num_in):\n",
    "    df_m1 = pd.DataFrame() ## create a blank dataframe\n",
    "    for num_in in file_num_in:\n",
    "        file_in='\\\\'.join([stock_full_path,files[num_in]])\n",
    "        #print file_in\n",
    "        df1=read_vol_price_data_fuquan(file_in)\n",
    "        df_m1=df_m1.append(df1,ignore_index=False)\n",
    "        #print df1.head()\n",
    "        #print len(df1)\n",
    "    date1=df_m1.date.values\n",
    "    years=[]\n",
    "    months=[]\n",
    "    for da in date1:\n",
    "        year=da[0:4]\n",
    "        month=da[5:7]\n",
    "        years.append(int(year))\n",
    "        months.append(int(month))\n",
    "    df_m1['year']=years\n",
    "    df_m1['month']=months\n",
    "    return df_m1\n",
    "#print main_path_data"
   ]
  },
  {
   "cell_type": "code",
   "execution_count": 31,
   "metadata": {},
   "outputs": [
    {
     "data": {
      "image/png": "[encoded data removed]",
      "text/plain": [
       "<matplotlib.figure.Figure at 0xd1fbc18>"
      ]
     },
     "metadata": {},
     "output_type": "display_data"
    }
   ],
   "source": [
    "#j2 = [i for i in vol_all1 if i <30000]\n",
    "\n",
    "fig = plt.figure()\n",
    "ax = fig.add_subplot(111)\n",
    "\n",
    "numBins = 50\n",
    "ax.hist(df2.iloc[1],numBins,color='green',alpha=0.8)\n",
    "plt.show()\n"
   ]
  },
  {
   "cell_type": "code",
   "execution_count": 22,
   "metadata": {},
   "outputs": [
    {
     "data": {
      "image/png": "[encoded data removed]",
      "text/plain": [
       "<matplotlib.figure.Figure at 0xcbd7780>"
      ]
     },
     "metadata": {},
     "output_type": "display_data"
    }
   ],
   "source": [
    "fig = plt.figure()\n",
    "ax = fig.add_subplot(111)\n",
    "numBins = 50\n",
    "ax.hist(vol_all1,numBins,color='green',alpha=0.8)\n",
    "plt.show()"
   ]
  },
  {
   "cell_type": "code",
   "execution_count": null,
   "metadata": {
    "collapsed": true
   },
   "outputs": [],
   "source": []
  },
  {
   "cell_type": "code",
   "execution_count": 18,
   "metadata": {},
   "outputs": [],
   "source": [
    "ax = fig.add_subplot(111)\n",
    "\n",
    "numBins = 50\n",
    "ax.hist(vol_all1,numBins,color='green',alpha=0.8)\n",
    "plt.show()"
   ]
  },
  {
   "cell_type": "code",
   "execution_count": null,
   "metadata": {
    "collapsed": true
   },
   "outputs": [],
   "source": [
    "#stk_num=\"000001\"\n",
    "for i in sto2[0:2]:\n",
    "    stk_num=i[0:6]\n",
    "    print i\n",
    "    stock_path1='\\\\'.join([path_price_volume,market,stk_num])\n",
    "    stk_list=os.listdir(stock_path1)\n",
    "    num_in=find_stocks_in_date_range(stock_path1,date1,date2)\n",
    "    if len(num_in)>0:\n",
    "        for fi1 in num_in:\n",
    "            try:\n",
    "                data_file=\"g:/stock/data/daily_price_volume/shenzhen/%s/%s\" % (stk_num,stk_list[fi1])\n",
    "                #print data_file\n",
    "                df1=read_vol_price_data(data_file)\n",
    "                total1=df1.volume.values.tolist() ## pandas value to list\n",
    "                price1=df1.price.values.tolist()\n",
    "                vol=[a/b for a, b in zip(total1,price1)]\n",
    "                print vol[0:4]\n",
    "            except:\n",
    "                #print 'fuck'\n",
    "                pass"
   ]
  }
 ],
 "metadata": {
  "kernelspec": {
   "display_name": "Python 2",
   "language": "python",
   "name": "python2"
  },
  "language_info": {
   "codemirror_mode": {
    "name": "ipython",
    "version": 2
   },
   "file_extension": ".py",
   "mimetype": "text/x-python",
   "name": "python",
   "nbconvert_exporter": "python",
   "pygments_lexer": "ipython2",
   "version": "2.7.13"
  }
 },
 "nbformat": 4,
 "nbformat_minor": 2
}

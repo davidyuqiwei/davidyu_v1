{
 "cells": [
  {
   "cell_type": "code",
   "execution_count": 12,
   "metadata": {
    "collapsed": true
   },
   "outputs": [],
   "source": [
    "# %load big_volume.py\n",
    "import os\n",
    "import sys\n",
    "#from load_path import *\n",
    "import numpy as np\n",
    "#import pandas as pd\n",
    "import datetime\n",
    "#from numpy._distributor_init import NUMPY_MKL\n",
    "import re\n",
    "from datetime import datetime\n",
    "import itertools\n",
    "from package_path_define.path_define import *\n",
    "from package_readdata.read_data import * # load read data function\n",
    "import matplotlib.pyplot as plt\n",
    "\n",
    "date1=datetime(2015,1,11).strftime('%Y-%m-%d')\n",
    "date2=datetime(2015,1,15).strftime('%Y-%m-%d')\n"
   ]
  },
  {
   "cell_type": "code",
   "execution_count": 207,
   "metadata": {},
   "outputs": [],
   "source": [
    "def stock_fenshi_path(path,stk_num):\n",
    "    if stk_num[:2]=='60':\n",
    "        market='shanghai'\n",
    "    elif stk_num[:2]=='00':\n",
    "        market='shenzhen'\n",
    "    else:\n",
    "        print 'the stock number input is wrong'\n",
    "        os._exit()\n",
    "    stock_path1='\\\\'.join([path,market,stk_num])\n",
    "    return stock_path1\n",
    "class get_data:\n",
    "    def __init__(self):\n",
    "        self.price_all=[]\n",
    "        self.vol_all=[]\n",
    "    def fenshi(self,path,stk_num,date1,date2):\n",
    "        ## get stock name in the date range\n",
    "        stock_path1=stock_fenshi_path(path,stk_num)\n",
    "        stk_list=os.listdir(stock_path1)\n",
    "        num_in=find_stocks_in_date_range(stock_path1,date1,date2)\n",
    "        print num_in\n",
    "        if len(num_in)>0:\n",
    "            for fi1 in num_in:\n",
    "                try:\n",
    "                    data_file='\\\\'.join([path,market,stk_num,stk_list[fi1]])\n",
    "                    #print data_file\n",
    "                    df1=read_vol_price_data(data_file)\n",
    "                    if len(df1)>0:\n",
    "                        total1=df1.volume.values.tolist() ## pandas value to list\n",
    "                        price1=df1.price.values.tolist()\n",
    "                        #print price1\n",
    "                        vol=[a/b for a, b in zip(total1,price1)]\n",
    "                        self.price_all.append(price1)\n",
    "                        self.vol_all.append(vol)\n",
    "                    else:\n",
    "                        pass\n",
    "                except:\n",
    "                    #print 'fuck'\n",
    "                    pass\n",
    "        else:\n",
    "            print 'no data'\n",
    "        return self.price_all,self.vol_all"
   ]
  },
  {
   "cell_type": "code",
   "execution_count": 222,
   "metadata": {},
   "outputs": [
    {
     "name": "stdout",
     "output_type": "stream",
     "text": [
      "[10 11 12 13 14]\n",
      "10795\n",
      "10795\n"
     ]
    }
   ],
   "source": [
    "get_data1=get_data()\n",
    "#print get_data1.price_all\n",
    "price,volume=get_data1.fenshi(path_price_volume,stk_num,date1,date2)\n",
    "len(price)\n",
    "price_all1 = list(itertools.chain(*price))\n",
    "vol_all1 = list(itertools.chain(*volume))\n",
    "print len(price_all1)\n",
    "print len(vol_all1)"
   ]
  },
  {
   "cell_type": "code",
   "execution_count": 228,
   "metadata": {},
   "outputs": [],
   "source": [
    "def stock_fenshi_path(path,stk_num):\n",
    "    if stk_num[:2]=='60':\n",
    "        market='shanghai'\n",
    "    elif stk_num[:2]=='00':\n",
    "        market='shenzhen'\n",
    "    else:\n",
    "        print 'the stock number input is wrong'\n",
    "        os._exit()\n",
    "    stock_path1='\\\\'.join([path,market,stk_num])\n",
    "    return stock_path1\n",
    "class get_data:\n",
    "    def __init__(self):\n",
    "        self.price_all=[]\n",
    "        self.vol_all=[]\n",
    "    def fenshi(self,path,stk_num,date1,date2):\n",
    "        ## get stock name in the date range\n",
    "        stock_path1=stock_fenshi_path(path,stk_num)\n",
    "        stk_list=os.listdir(stock_path1)\n",
    "        num_in=find_stocks_in_date_range(stock_path1,date1,date2)\n",
    "        print num_in\n",
    "        if len(num_in)>0:\n",
    "            for fi1 in num_in:\n",
    "                try:\n",
    "                    data_file='\\\\'.join([path,market,stk_num,stk_list[fi1]])\n",
    "                    #print data_file\n",
    "                    df1=read_vol_price_data(data_file)\n",
    "                    if len(df1)>0:\n",
    "                        total1=df1.volume.values.tolist() ## pandas value to list\n",
    "                        price1=df1.price.values.tolist()\n",
    "                        #print price1\n",
    "                        vol=[a/b for a, b in zip(total1,price1)]\n",
    "                        self.price_all.append(price1)\n",
    "                        self.vol_all.append(vol)\n",
    "                    else:\n",
    "                        pass\n",
    "                except:\n",
    "                    #print 'fuck'\n",
    "                    pass\n",
    "        else:\n",
    "            print 'no data'\n",
    "        return self.price_all,self.vol_all\n",
    "    def fuquan(self,path,stk_num,date1,date2):\n",
    "        file_in1='%s_fuquan_all.csv' %stk_num\n",
    "        file_in='\\\\'.join([path,file_in1])\n",
    "        try:\n",
    "            df1=read_vol_price_data_fuquan(file_in)\n",
    "            data_df1= df1.reset_index(drop=True)\n",
    "            #df2=data_df1\n",
    "            df2=data_df1.sort_values(by=['date'])\n",
    "            df3=df2[(df2.date>=date1)&(df2.date<=date2)]\n",
    "        except:\n",
    "            pass\n",
    "        return df3"
   ]
  },
  {
   "cell_type": "code",
   "execution_count": 229,
   "metadata": {},
   "outputs": [
    {
     "data": {
      "text/html": [
       "<div>\n",
       "<style>\n",
       "    .dataframe thead tr:only-child th {\n",
       "        text-align: right;\n",
       "    }\n",
       "\n",
       "    .dataframe thead th {\n",
       "        text-align: left;\n",
       "    }\n",
       "\n",
       "    .dataframe tbody tr th {\n",
       "        vertical-align: top;\n",
       "    }\n",
       "</style>\n",
       "<table border=\"1\" class=\"dataframe\">\n",
       "  <thead>\n",
       "    <tr style=\"text-align: right;\">\n",
       "      <th></th>\n",
       "      <th>date</th>\n",
       "      <th>open</th>\n",
       "      <th>high</th>\n",
       "      <th>close</th>\n",
       "      <th>low</th>\n",
       "      <th>volume</th>\n",
       "      <th>trade_amount</th>\n",
       "      <th>fuquan_factor</th>\n",
       "    </tr>\n",
       "  </thead>\n",
       "  <tbody>\n",
       "    <tr>\n",
       "      <th>278</th>\n",
       "      <td>2015-01-12</td>\n",
       "      <td>130.929</td>\n",
       "      <td>133.430</td>\n",
       "      <td>133.430</td>\n",
       "      <td>129.444</td>\n",
       "      <td>16961954.0</td>\n",
       "      <td>285009312.0</td>\n",
       "      <td>7.817</td>\n",
       "    </tr>\n",
       "    <tr>\n",
       "      <th>279</th>\n",
       "      <td>2015-01-13</td>\n",
       "      <td>132.961</td>\n",
       "      <td>135.072</td>\n",
       "      <td>134.681</td>\n",
       "      <td>131.320</td>\n",
       "      <td>17874422.0</td>\n",
       "      <td>306206464.0</td>\n",
       "      <td>7.817</td>\n",
       "    </tr>\n",
       "    <tr>\n",
       "      <th>280</th>\n",
       "      <td>2015-01-14</td>\n",
       "      <td>133.977</td>\n",
       "      <td>134.993</td>\n",
       "      <td>132.805</td>\n",
       "      <td>132.023</td>\n",
       "      <td>11298349.0</td>\n",
       "      <td>192468176.0</td>\n",
       "      <td>7.817</td>\n",
       "    </tr>\n",
       "    <tr>\n",
       "      <th>281</th>\n",
       "      <td>2015-01-15</td>\n",
       "      <td>133.117</td>\n",
       "      <td>135.462</td>\n",
       "      <td>134.446</td>\n",
       "      <td>131.241</td>\n",
       "      <td>19094652.0</td>\n",
       "      <td>327368288.0</td>\n",
       "      <td>7.817</td>\n",
       "    </tr>\n",
       "  </tbody>\n",
       "</table>\n",
       "</div>"
      ],
      "text/plain": [
       "           date     open     high    close      low      volume  trade_amount  \\\n",
       "278  2015-01-12  130.929  133.430  133.430  129.444  16961954.0   285009312.0   \n",
       "279  2015-01-13  132.961  135.072  134.681  131.320  17874422.0   306206464.0   \n",
       "280  2015-01-14  133.977  134.993  132.805  132.023  11298349.0   192468176.0   \n",
       "281  2015-01-15  133.117  135.462  134.446  131.241  19094652.0   327368288.0   \n",
       "\n",
       "     fuquan_factor  \n",
       "278          7.817  \n",
       "279          7.817  \n",
       "280          7.817  \n",
       "281          7.817  "
      ]
     },
     "execution_count": 229,
     "metadata": {},
     "output_type": "execute_result"
    }
   ],
   "source": [
    "get_data1=get_data()\n",
    "market='shenzhen'\n",
    "path1='\\\\'.join([main_path_data,'fuquan_combine',market])\n",
    "get_data1.fuquan(path1,'000917',date1,date2)"
   ]
  },
  {
   "cell_type": "code",
   "execution_count": 211,
   "metadata": {},
   "outputs": [
    {
     "name": "stdout",
     "output_type": "stream",
     "text": [
      "1\n",
      "(2, 3)\n"
     ]
    }
   ],
   "source": [
    "def wrap(func):\n",
    "    def inner():\n",
    "        r = func()\n",
    "        return r[0], r[1:]\n",
    "    return inner\n",
    " \n",
    "@wrap\n",
    "def foo():\n",
    "    return 1, 2, 3\n",
    " \n",
    "x, y = foo()\n",
    "print x\n",
    "print y"
   ]
  },
  {
   "cell_type": "code",
   "execution_count": 206,
   "metadata": {},
   "outputs": [
    {
     "name": "stdout",
     "output_type": "stream",
     "text": [
      "G:\\\\stock\\\\data\\\\daily_price_volume\\shenzhen\\000917\\000917_2015-01-11.csv\n",
      "0\n"
     ]
    }
   ],
   "source": [
    "data_file='\\\\'.join([path_price_volume,market,stk_num,stk_list[10]])\n",
    "print data_file\n",
    "df1=read_vol_price_data(data_file)\n",
    "print len(df1)"
   ]
  },
  {
   "cell_type": "code",
   "execution_count": 173,
   "metadata": {},
   "outputs": [
    {
     "name": "stdout",
     "output_type": "stream",
     "text": [
      "2\n",
      "1\n",
      "0\n",
      "-1\n",
      "-2\n",
      "-3\n",
      "-4\n",
      "-5\n",
      "-6\n",
      "-7\n",
      "[0, 1, 3, 4, 5, 6, 7, 8, 9]\n"
     ]
    }
   ],
   "source": [
    "class get_dat:\n",
    "    def __init__(self):\n",
    "        self.price_all=[]\n",
    "        self.vol_all=[]\n",
    "    def fenshi(self,a2):\n",
    "        a1=3\n",
    "        for a2 in range(0,a2):\n",
    "            a1=a1-1\n",
    "            print a1\n",
    "            try:\n",
    "                a5=3/a1\n",
    "                self.price_all.append(a2)\n",
    "                self.vol_all.append(a2)\n",
    "            except:\n",
    "                pass\n",
    "        return self.price_all\n",
    "get_data2=get_dat()\n",
    "print get_data2.fenshi(10)"
   ]
  },
  {
   "cell_type": "code",
   "execution_count": 140,
   "metadata": {},
   "outputs": [
    {
     "name": "stdout",
     "output_type": "stream",
     "text": [
      "[]\n"
     ]
    }
   ],
   "source": [
    "get_data1=get_data()\n",
    "print get_data1.vol_all"
   ]
  },
  {
   "cell_type": "code",
   "execution_count": 113,
   "metadata": {},
   "outputs": [],
   "source": [
    "a1=[]\n",
    "a1.append(2)"
   ]
  },
  {
   "cell_type": "code",
   "execution_count": 110,
   "metadata": {},
   "outputs": [
    {
     "data": {
      "text/plain": [
       "'get_data'"
      ]
     },
     "execution_count": 110,
     "metadata": {},
     "output_type": "execute_result"
    }
   ],
   "source": [
    "get_data.__name__"
   ]
  },
  {
   "cell_type": "code",
   "execution_count": 10,
   "metadata": {},
   "outputs": [
    {
     "name": "stdout",
     "output_type": "stream",
     "text": [
      "G:\\\\stock\\\\data\\\\daily_price_volume\\shenzhen\\000917\n"
     ]
    }
   ],
   "source": [
    "stk_num='000917'\n",
    "\n",
    "\n",
    "p1=stock_fenshi_path(path_price_volume,stk_num)\n",
    "print p1\n",
    "                      \n",
    "stk_list=os.listdir(stock_path1)\n",
    "\n",
    "\n"
   ]
  },
  {
   "cell_type": "code",
   "execution_count": null,
   "metadata": {
    "collapsed": true
   },
   "outputs": [],
   "source": [
    "get_data.fenshi(path,stk_num,date1,date2)"
   ]
  }
 ],
 "metadata": {
  "kernelspec": {
   "display_name": "Python 2",
   "language": "python",
   "name": "python2"
  },
  "language_info": {
   "codemirror_mode": {
    "name": "ipython",
    "version": 2
   },
   "file_extension": ".py",
   "mimetype": "text/x-python",
   "name": "python",
   "nbconvert_exporter": "python",
   "pygments_lexer": "ipython2",
   "version": "2.7.13"
  }
 },
 "nbformat": 4,
 "nbformat_minor": 2
}

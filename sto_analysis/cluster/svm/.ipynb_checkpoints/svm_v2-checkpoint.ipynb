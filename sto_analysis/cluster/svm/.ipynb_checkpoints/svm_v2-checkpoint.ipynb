{
 "cells": [
  {
   "cell_type": "code",
   "execution_count": 2,
   "metadata": {},
   "outputs": [
    {
     "name": "stdout",
     "output_type": "stream",
     "text": [
      "G:\\\\stock\\\\data\\fuquan_combine\\shenzhen\\000917_fuquan_all.csv\n",
      "         date   open   high  close    low      volume  trade_amount  \\\n",
      "0  1999-03-25  19.01  20.38  18.99  18.90  32064800.0   629395704.0   \n",
      "1  1999-03-26  18.90  19.46  18.26  18.02   8322600.0   156266563.0   \n",
      "2  1999-03-29  18.20  18.47  18.01  17.71   3945300.0    70956198.0   \n",
      "3  1999-03-30  18.05  18.55  18.29  17.75   2168600.0    39468139.0   \n",
      "4  1999-03-31  18.28  18.59  18.26  18.02   1406700.0    25762359.0   \n",
      "\n",
      "   fuquan_factor  \n",
      "0            1.0  \n",
      "1            1.0  \n",
      "2            1.0  \n",
      "3            1.0  \n",
      "4            1.0  \n",
      "3910\n"
     ]
    }
   ],
   "source": [
    "## read the fuquan combine data\n",
    "from package_path_define.path_define import *\n",
    "from package_readdata.read_fuquan_combine import *\n",
    "\n",
    "stk_num=\"000917\"\n",
    "df1=read_fuquan_combine(stk_num)\n",
    "df2=df1.sort_values(by=['date'])\n",
    "data_df1=df2.reset_index(drop=True) ## get data by date\n",
    "print data_df1.head()\n",
    "print len(data_df1)"
   ]
  },
  {
   "cell_type": "code",
   "execution_count": 30,
   "metadata": {},
   "outputs": [
    {
     "name": "stdout",
     "output_type": "stream",
     "text": [
      "150\n",
      "1.0\n"
     ]
    }
   ],
   "source": [
    "## training data\n",
    "from sklearn import preprocessing  \n",
    "import numpy as np\n",
    "from sklearn import svm\n",
    "\n",
    "## generate training points\n",
    "ii=1000\n",
    "train_sample=30\n",
    "X=[]\n",
    "for i in range(0,ii-train_sample+1):\n",
    "    df1=data_df1.loc[i:i+train_sample-1,['open','high','close','low','volume']]\n",
    "    train_data = np.array(df1)\n",
    "    train_data1=np.hstack(train_data)\n",
    "    X.append(train_data1.tolist())\n",
    "print len(X[0])\n",
    "#print data_df1.loc[0:2,['open','high','close','low','volume']]\n",
    "#print data_df1.loc[1:3,['open','high','close','low','volume']]\n",
    "X1=preprocessing.scale(X) \n",
    "\n",
    "## generate training points y \n",
    "y1=data_df1.close\n",
    "y2=y1.diff(periods=1)\n",
    "#print y2[train_sample:ii+1]\n",
    "y3=y2.loc[train_sample:ii,]\n",
    "y3=np.array(y3)\n",
    "y4=np.int64(y3>0)\n",
    "\n",
    "import random\n",
    "rand1=random.sample(xrange(ii-train_sample+1),800)\n",
    "X=X1[rand1]\n",
    "y5=y4[rand1]\n",
    "clf = svm.SVC(C=0.8, kernel='rbf', gamma=20, decision_function_shape='ovr')\n",
    "clf.fit(X, y5)  \n",
    "print clf.score(X, y5)"
   ]
  },
  {
   "cell_type": "code",
   "execution_count": 33,
   "metadata": {},
   "outputs": [
    {
     "name": "stdout",
     "output_type": "stream",
     "text": [
      "[417 383]\n"
     ]
    }
   ],
   "source": [
    "print(clf.n_support_)"
   ]
  },
  {
   "cell_type": "code",
   "execution_count": 22,
   "metadata": {},
   "outputs": [
    {
     "name": "stdout",
     "output_type": "stream",
     "text": [
      "30\n"
     ]
    },
    {
     "data": {
      "text/html": [
       "<div>\n",
       "<style>\n",
       "    .dataframe thead tr:only-child th {\n",
       "        text-align: right;\n",
       "    }\n",
       "\n",
       "    .dataframe thead th {\n",
       "        text-align: left;\n",
       "    }\n",
       "\n",
       "    .dataframe tbody tr th {\n",
       "        vertical-align: top;\n",
       "    }\n",
       "</style>\n",
       "<table border=\"1\" class=\"dataframe\">\n",
       "  <thead>\n",
       "    <tr style=\"text-align: right;\">\n",
       "      <th></th>\n",
       "      <th>open</th>\n",
       "      <th>high</th>\n",
       "      <th>close</th>\n",
       "      <th>low</th>\n",
       "    </tr>\n",
       "  </thead>\n",
       "  <tbody>\n",
       "  </tbody>\n",
       "</table>\n",
       "</div>"
      ],
      "text/plain": [
       "Empty DataFrame\n",
       "Columns: [open, high, close, low]\n",
       "Index: []"
      ]
     },
     "execution_count": 22,
     "metadata": {},
     "output_type": "execute_result"
    }
   ],
   "source": [
    "print i\n",
    "df1=data_df1.loc[i:(train_sample-1),['open','high','close','low']]\n",
    "df1"
   ]
  },
  {
   "cell_type": "code",
   "execution_count": null,
   "metadata": {
    "collapsed": true
   },
   "outputs": [],
   "source": []
  },
  {
   "cell_type": "code",
   "execution_count": null,
   "metadata": {
    "collapsed": true
   },
   "outputs": [],
   "source": []
  },
  {
   "cell_type": "code",
   "execution_count": null,
   "metadata": {
    "collapsed": true
   },
   "outputs": [],
   "source": []
  },
  {
   "cell_type": "code",
   "execution_count": 32,
   "metadata": {},
   "outputs": [
    {
     "name": "stdout",
     "output_type": "stream",
     "text": [
      "971\n",
      "[0, 0, 0, 0, 0, 0, 1, 0, 0, 0, 1, 0, 1, 0, 1, 0, 1, 0, 0, 0, 0, 1, 1, 0, 0, 0, 0, 0, 0, 0, 0, 0, 1, 0, 1, 1, 1, 0, 0, 0, 0, 0, 1, 1, 0, 1, 0, 0, 1, 0]\n",
      "[ 0.  0.  1.  1.  0.  1.  0.  1.  0.  1.  0.  0.  1.  0.  0.  0.  1.  0.\n",
      "  0.  0.  0.  0.  1.  0.  0.  1.  0.  1.  1.  1.  0.  0.  0.  0.  0.  0.\n",
      "  1.  0.  0.  0.  1.  0.  1.  0.  1.  0.  1.  0.  0.  0.]\n"
     ]
    },
    {
     "data": {
      "text/plain": [
       "0.22916666666666666"
      ]
     },
     "execution_count": 32,
     "metadata": {},
     "output_type": "execute_result"
    }
   ],
   "source": [
    "print len(X1)\n",
    "prd=[]\n",
    "act=[]\n",
    "for i in range(800,850):\n",
    "    df1=X1[i]\n",
    "    prd1=clf.predict([df1.tolist()])\n",
    "    prd.append(prd1[0])\n",
    "    act.append(y2[i])\n",
    "print prd\n",
    "\n",
    "a2=np.array(act)\n",
    "a2[a2>0]=1\n",
    "a2[a2<0]=0\n",
    "print a2\n",
    "a3=a2.tolist()\n",
    "dif1=np.subtract(prd, a3)\n",
    "np.sum(np.square(dif1))/96"
   ]
  }
 ],
 "metadata": {
  "kernelspec": {
   "display_name": "Python 2",
   "language": "python",
   "name": "python2"
  },
  "language_info": {
   "codemirror_mode": {
    "name": "ipython",
    "version": 2
   },
   "file_extension": ".py",
   "mimetype": "text/x-python",
   "name": "python",
   "nbconvert_exporter": "python",
   "pygments_lexer": "ipython2",
   "version": "2.7.13"
  }
 },
 "nbformat": 4,
 "nbformat_minor": 2
}

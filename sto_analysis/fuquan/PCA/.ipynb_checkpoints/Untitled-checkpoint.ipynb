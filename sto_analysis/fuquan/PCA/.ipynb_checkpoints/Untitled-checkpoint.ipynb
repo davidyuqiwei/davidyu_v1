{
 "cells": [
  {
   "cell_type": "code",
   "execution_count": null,
   "metadata": {
    "collapsed": true
   },
   "outputs": [],
   "source": [
    "# %load fuquan_v1.py\n",
    "##  PCA analysis\n",
    "import os\n",
    "import pandas as pd\n",
    "from package_path_define.path_define import *\n",
    "from package_readdata.read_data import find_stocks_in_date_range_fuquan\n",
    "from package_readdata.read_data import read_vol_price_data_fuquan\n",
    "from package_plot.plot_data import *\n",
    "from matplotlib.dates import DayLocator, HourLocator, DateFormatter, drange\n",
    "from numpy import arange\n",
    "#print path_fuquan\n",
    "\n",
    "def data_get(stock_full_path,files,file_num_in):\n",
    "    df_m1 = pd.DataFrame() ## create a blank dataframe\n",
    "    for num_in in file_num_in:\n",
    "        file_in='\\\\'.join([stock_full_path,files[num_in]])\n",
    "        #print file_in\n",
    "        df1=read_vol_price_data_fuquan(file_in)\n",
    "        df_m1=df_m1.append(df1,ignore_index=False)\n",
    "        #print df1.head()\n",
    "        #print len(df1)\n",
    "    date1=df_m1.date.values\n",
    "    years=[]\n",
    "    months=[]\n",
    "    for da in date1:\n",
    "        year=da[0:4]\n",
    "        month=da[5:7]\n",
    "        years.append(int(year))\n",
    "        months.append(int(month))\n",
    "    df_m1['year']=years\n",
    "    df_m1['month']=months\n",
    "    return df_m1\n",
    "#print main_path_data"
   ]
  },
  {
   "cell_type": "code",
   "execution_count": null,
   "metadata": {
    "collapsed": true
   },
   "outputs": [],
   "source": [
    "stock_index_file=\"shanghai_shenzhen_data_from_2013\"\n",
    "stock_path='\\\\'.join([main_path_data,stock_index_file,market])\n",
    "sto2=os.listdir(stock_path)\n",
    "#data_df1=data_get(stock_full_path,files,file_num_in)\n",
    "ratio=[]\n",
    "stock_in=[]\n",
    "for s1 in sto2:\n",
    "    stk_num=s1[0:6]\n",
    "    #stock_in.append(stk_num)\n",
    "    file_in1='%s_fuquan_all.csv' %stk_num\n",
    "    file_in='\\\\'.join([path1,file_in1])\n",
    "    try:\n",
    "        df1=read_vol_price_data_fuquan(file_in)\n",
    "        data_df1= df1.reset_index(drop=True)\n",
    "        #df2=data_df1\n",
    "        df2=data_df1.sort_values(by=['date'])\n",
    "        df3=df2[(df2.date>='2014-01-01')&(df2.date<='2016-12-31')]"
   ]
  }
 ],
 "metadata": {
  "kernelspec": {
   "display_name": "Python 2",
   "language": "python",
   "name": "python2"
  },
  "language_info": {
   "codemirror_mode": {
    "name": "ipython",
    "version": 2
   },
   "file_extension": ".py",
   "mimetype": "text/x-python",
   "name": "python",
   "nbconvert_exporter": "python",
   "pygments_lexer": "ipython2",
   "version": "2.7.13"
  }
 },
 "nbformat": 4,
 "nbformat_minor": 2
}

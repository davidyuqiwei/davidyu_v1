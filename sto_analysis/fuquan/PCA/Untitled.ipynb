{
 "cells": [
  {
   "cell_type": "code",
   "execution_count": 1,
   "metadata": {},
   "outputs": [
    {
     "name": "stdout",
     "output_type": "stream",
     "text": [
      "the path define is in G:\\stock\\code\\package_path_define\n"
     ]
    }
   ],
   "source": [
    "# %load fuquan_v1.py\n",
    "##  PCA analysis\n",
    "import os\n",
    "import pandas as pd\n",
    "from package_path_define.path_define import *\n",
    "from package_readdata.read_data import find_stocks_in_date_range_fuquan\n",
    "from package_readdata.read_data import read_vol_price_data_fuquan\n",
    "from package_plot.plot_data import *\n",
    "from matplotlib.dates import DayLocator, HourLocator, DateFormatter, drange\n",
    "from numpy import arange\n",
    "#print path_fuquan\n",
    "\n",
    "def data_get(stock_full_path,files,file_num_in):\n",
    "    df_m1 = pd.DataFrame() ## create a blank dataframe\n",
    "    for num_in in file_num_in:\n",
    "        file_in='\\\\'.join([stock_full_path,files[num_in]])\n",
    "        #print file_in\n",
    "        df1=read_vol_price_data_fuquan(file_in)\n",
    "        df_m1=df_m1.append(df1,ignore_index=False)\n",
    "        #print df1.head()\n",
    "        #print len(df1)\n",
    "    date1=df_m1.date.values\n",
    "    years=[]\n",
    "    months=[]\n",
    "    for da in date1:\n",
    "        year=da[0:4]\n",
    "        month=da[5:7]\n",
    "        years.append(int(year))\n",
    "        months.append(int(month))\n",
    "    df_m1['year']=years\n",
    "    df_m1['month']=months\n",
    "    return df_m1\n",
    "#print main_path_data"
   ]
  },
  {
   "cell_type": "code",
   "execution_count": 133,
   "metadata": {
    "collapsed": true
   },
   "outputs": [],
   "source": [
    "market='shenzhen'\n",
    "path1='\\\\'.join([main_path_data,'fuquan_combine',market])\n",
    "\n",
    "stock_index_file=\"shanghai_shenzhen_data_from_2013\"\n",
    "stock_path='\\\\'.join([main_path_data,stock_index_file,market])\n",
    "sto2=os.listdir(stock_path)\n",
    "#data_df1=data_get(stock_full_path,files,file_num_in)\n",
    "import random\n",
    "sample1=random.sample(sto2,300)\n",
    "close1=[]\n",
    "for s1 in sample1:\n",
    "    stk_num=s1[0:6]\n",
    "    #stock_in.append(stk_num)\n",
    "    file_in1='%s_fuquan_all.csv' %stk_num\n",
    "    file_in='\\\\'.join([path1,file_in1])\n",
    "    try:\n",
    "        df1=read_vol_price_data_fuquan(file_in)\n",
    "        data_df1= df1.reset_index(drop=True)\n",
    "        #df2=data_df1\n",
    "        df2=data_df1.sort_values(by=['date'])\n",
    "        df3=df2[(df2.date>='2016-01-01')&(df2.date<='2016-12-31')]\n",
    "        close2=df3.close.values.tolist()\n",
    "        close1.append(close2)\n",
    "    except:\n",
    "        pass"
   ]
  },
  {
   "cell_type": "code",
   "execution_count": 132,
   "metadata": {},
   "outputs": [
    {
     "data": {
      "text/plain": [
       "['002863.sz',\n",
       " '002585.sz',\n",
       " '002196.sz',\n",
       " '002658.sz',\n",
       " '002453.sz',\n",
       " '000949.sz',\n",
       " '002128.sz',\n",
       " '002850.sz',\n",
       " '002855.sz',\n",
       " '000858.sz',\n",
       " '002416.sz',\n",
       " '002623.sz',\n",
       " '002285.sz',\n",
       " '000687.sz',\n",
       " '002501.sz',\n",
       " '002792.sz',\n",
       " '002228.sz',\n",
       " '002531.sz',\n",
       " '002241.sz',\n",
       " '002553.sz',\n",
       " '002131.sz',\n",
       " '000637.sz',\n",
       " '002156.sz',\n",
       " '002455.sz',\n",
       " '000996.sz',\n",
       " '001896.sz',\n",
       " '002622.sz',\n",
       " '002687.sz',\n",
       " '000669.sz',\n",
       " '000829.sz',\n",
       " '002237.sz',\n",
       " '000939.sz',\n",
       " '002750.sz',\n",
       " '002347.sz',\n",
       " '000619.sz',\n",
       " '002510.sz',\n",
       " '002632.sz',\n",
       " '000417.sz',\n",
       " '002602.sz',\n",
       " '002291.sz',\n",
       " '000020.sz',\n",
       " '002523.sz',\n",
       " '000156.sz',\n",
       " '002061.sz',\n",
       " '002298.sz',\n",
       " '002150.sz',\n",
       " '000850.sz',\n",
       " '002813.sz',\n",
       " '000811.sz',\n",
       " '002137.sz',\n",
       " '002296.sz',\n",
       " '002029.sz',\n",
       " '000301.sz',\n",
       " '002288.sz',\n",
       " '000726.sz',\n",
       " '002215.sz',\n",
       " '002480.sz',\n",
       " '002134.sz',\n",
       " '000665.sz',\n",
       " '002568.sz',\n",
       " '000707.sz',\n",
       " '002031.sz',\n",
       " '002653.sz',\n",
       " '002370.sz',\n",
       " '000927.sz',\n",
       " '002735.sz',\n",
       " '000010.sz',\n",
       " '002778.sz',\n",
       " '002067.sz',\n",
       " '002113.sz',\n",
       " '002344.sz',\n",
       " '002272.sz',\n",
       " '002674.sz',\n",
       " '000998.sz',\n",
       " '002527.sz',\n",
       " '002747.sz',\n",
       " '000818.sz',\n",
       " '002199.sz',\n",
       " '002816.sz',\n",
       " '002878.sz',\n",
       " '002571.sz',\n",
       " '000768.sz',\n",
       " '000802.sz',\n",
       " '000663.sz',\n",
       " '000885.sz',\n",
       " '002574.sz',\n",
       " '000823.sz',\n",
       " '000973.sz',\n",
       " '000692.sz',\n",
       " '002676.sz',\n",
       " '002217.sz',\n",
       " '000911.sz',\n",
       " '002080.sz',\n",
       " '002775.sz',\n",
       " '000650.sz',\n",
       " '002356.sz',\n",
       " '002692.sz',\n",
       " '000519.sz',\n",
       " '002649.sz',\n",
       " '000606.sz']"
      ]
     },
     "execution_count": 132,
     "metadata": {},
     "output_type": "execute_result"
    }
   ],
   "source": []
  },
  {
   "cell_type": "code",
   "execution_count": 115,
   "metadata": {},
   "outputs": [
    {
     "data": {
      "text/plain": [
       "244"
      ]
     },
     "execution_count": 115,
     "metadata": {},
     "output_type": "execute_result"
    }
   ],
   "source": [
    "len(close1)"
   ]
  },
  {
   "cell_type": "code",
   "execution_count": 118,
   "metadata": {},
   "outputs": [
    {
     "name": "stdout",
     "output_type": "stream",
     "text": [
      "244\n",
      "134\n"
     ]
    }
   ],
   "source": [
    "from collections import Counter\n",
    "len1=[]\n",
    "for cl in close1:\n",
    "    len1.append(len(cl))\n",
    "coun1=Counter(len1)\n",
    "print max(coun1)\n",
    "print coun1[244]"
   ]
  },
  {
   "cell_type": "code",
   "execution_count": 119,
   "metadata": {
    "collapsed": true
   },
   "outputs": [],
   "source": []
  },
  {
   "cell_type": "code",
   "execution_count": 123,
   "metadata": {},
   "outputs": [
    {
     "name": "stdout",
     "output_type": "stream",
     "text": [
      "(244L, 134L)\n",
      "0.471225210765\n",
      "0.157450881675\n"
     ]
    }
   ],
   "source": [
    "import numpy as np\n",
    "from matplotlib.mlab import PCA\n",
    "data = np.array(close2)\n",
    "data=data.T\n",
    "print data.shape\n",
    "results = PCA(data)\n",
    "#print data\n",
    "print results.fracs[0]\n",
    "print results.fracs[1]\n"
   ]
  },
  {
   "cell_type": "code",
   "execution_count": 107,
   "metadata": {},
   "outputs": [
    {
     "data": {
      "text/plain": [
       "array([[ -3.04929633e+01,  -2.07379355e+00,   6.29318059e-02, ...,\n",
       "         -4.41583064e-04,  -9.96654968e-04,  -3.04910562e-04],\n",
       "       [ -9.56685677e+01,   2.51002901e+00,  -2.67933516e-01, ...,\n",
       "          2.31538384e-05,  -5.99667865e-05,  -4.77219446e-05],\n",
       "       [ -6.37953324e+00,  -6.82226515e-01,   4.03791952e-02, ...,\n",
       "          1.32790116e-03,  -9.30656526e-04,  -2.37724066e-04],\n",
       "       ..., \n",
       "       [ -1.14912440e+00,  -9.04100077e-02,   4.06833620e-03, ...,\n",
       "          1.00910747e-03,  -1.66953036e-04,  -3.68317091e-03],\n",
       "       [  1.96269172e+00,   9.24427040e-03,  -2.71304256e-02, ...,\n",
       "         -9.01132743e-04,  -3.55410737e-04,   3.28696423e-05],\n",
       "       [  3.12680145e+00,   1.56077165e-01,   6.71074613e-04, ...,\n",
       "          2.73790556e-03,   6.45861229e-04,  -1.17100911e-03]])"
      ]
     },
     "execution_count": 107,
     "metadata": {},
     "output_type": "execute_result"
    }
   ],
   "source": [
    "results.Y"
   ]
  },
  {
   "cell_type": "code",
   "execution_count": 124,
   "metadata": {},
   "outputs": [
    {
     "data": {
      "image/png": "[encoded data removed]",
      "text/plain": [
       "<matplotlib.figure.Figure at 0xb9449e8>"
      ]
     },
     "metadata": {},
     "output_type": "display_data"
    }
   ],
   "source": [
    "import matplotlib.pyplot as plt\n",
    "from mpl_toolkits.mplot3d import Axes3D\n",
    "\n",
    "x = []\n",
    "y = []\n",
    "z = []\n",
    "for item in results.Y:\n",
    "    x.append(item[0])\n",
    "    y.append(item[1])\n",
    "    z.append(item[2])\n",
    "\n",
    "plt.close('all') # close all latent plotting windows\n",
    "fig1 = plt.figure() # Make a plotting figure\n",
    "ax = Axes3D(fig1) # use the plotting figure to create a Axis3D object.\n",
    "pltData = [x,y,z] \n",
    "ax.scatter(pltData[0], pltData[1], pltData[2], 'bo') # ma\n",
    "# make simple, bare axis lines through space:\n",
    "xAxisLine = ((min(pltData[0]), max(pltData[0])), (0, 0), (0,0)) # 2 points make the x-axis line at the data extrema along x-axis \n",
    "ax.plot(xAxisLine[0], xAxisLine[1], xAxisLine[2], 'r') # make a red line for the x-axis.\n",
    "yAxisLine = ((0, 0), (min(pltData[1]), max(pltData[1])), (0,0)) # 2 points make the y-axis line at the data extrema along y-axis\n",
    "ax.plot(yAxisLine[0], yAxisLine[1], yAxisLine[2], 'r') # make a red line for the y-axis.\n",
    "zAxisLine = ((0, 0), (0,0), (min(pltData[2]), max(pltData[2]))) # 2 points make the z-axis line at the data extrema along z-axis\n",
    "ax.plot(zAxisLine[0], zAxisLine[1], zAxisLine[2], 'r') # make a red line for the z-axis.\n",
    " \n",
    "# label the axes \n",
    "ax.set_xlabel(\"x-axis label\") \n",
    "ax.set_ylabel(\"y-axis label\")\n",
    "ax.set_zlabel(\"y-axis label\")\n",
    "ax.set_title(\"The title of the plot\")\n",
    "plt.show() # show the plot"
   ]
  },
  {
   "cell_type": "code",
   "execution_count": 128,
   "metadata": {},
   "outputs": [
    {
     "data": {
      "image/png": "[encoded data removed]",
      "text/plain": [
       "<matplotlib.figure.Figure at 0xb51b780>"
      ]
     },
     "metadata": {},
     "output_type": "display_data"
    },
    {
     "data": {
      "image/png": "[encoded data removed]",
      "text/plain": [
       "<matplotlib.figure.Figure at 0xb3fcda0>"
      ]
     },
     "metadata": {},
     "output_type": "display_data"
    }
   ],
   "source": [
    "plt.plot(x)\n",
    "plt.show()\n",
    "plt.plot(y)\n",
    "plt.show()"
   ]
  },
  {
   "cell_type": "code",
   "execution_count": 93,
   "metadata": {},
   "outputs": [
    {
     "data": {
      "text/plain": [
       "[-30.492963329474794,\n",
       " -95.668567701898468,\n",
       " -6.3795332410861008,\n",
       " 1.6383072376779249,\n",
       " -9.5233794866288815,\n",
       " -2.7458573304490574,\n",
       " 1.2476350551619579,\n",
       " 0.65615556345960246,\n",
       " 1.9780637148825286,\n",
       " -4.361010025213929,\n",
       " -2.4335022177616938,\n",
       " 0.51982389431254861,\n",
       " 2.8347490616626843,\n",
       " 1.6891740158332202,\n",
       " 1.2680365896186716,\n",
       " 2.2211026200636104,\n",
       " -1.1564731839770452,\n",
       " 1.7610218550820518,\n",
       " 1.2504864913942761,\n",
       " 0.1503124729050074,\n",
       " 0.35547326480160996,\n",
       " 0.16798312825549189,\n",
       " -4.8794044000573527,\n",
       " 3.4428366303606541,\n",
       " -1.421378839950032,\n",
       " 2.5790987125251448,\n",
       " 0.84273624041786699,\n",
       " -7.3779846650595013,\n",
       " -6.1395285711528302,\n",
       " -3.4056859380182698,\n",
       " 1.2783048016227798,\n",
       " 3.5914062766872239,\n",
       " -4.9593931421184516,\n",
       " -4.8044558803445749,\n",
       " -4.7718356862930937,\n",
       " -4.4970359559858535,\n",
       " 3.400987806511985,\n",
       " -5.0724028623505779,\n",
       " 2.7518802229769084,\n",
       " -0.35919289070098492,\n",
       " 2.3136567027358677,\n",
       " 2.1112738299539595,\n",
       " 2.7123473250410171,\n",
       " 2.832368551668591,\n",
       " 2.5371670685281731,\n",
       " 1.9796373679951804,\n",
       " 2.4385775592711365,\n",
       " 1.8050735874564552,\n",
       " 3.1216284975084556,\n",
       " -5.4344977241481125,\n",
       " 3.1342531709686861,\n",
       " 3.2207255978938809,\n",
       " 3.7350163015192797,\n",
       " 0.25377946502662097,\n",
       " 1.2668550909548935,\n",
       " -0.27326193608646959,\n",
       " 1.8644396912335759,\n",
       " -6.9972023551807974,\n",
       " -0.85452104103722915,\n",
       " 2.8239941546822691,\n",
       " 1.2494856065118674,\n",
       " 1.0493941171277774,\n",
       " 3.0880988622779091,\n",
       " 2.7068408188365805,\n",
       " 2.1619258909964021,\n",
       " -0.92715760130225044,\n",
       " 1.0262981052267113,\n",
       " 0.25188714123540745,\n",
       " 3.1837642181029731,\n",
       " 1.0307925798934341,\n",
       " -13.707468136087581,\n",
       " -1.4006816063348406,\n",
       " 1.0243161309100266,\n",
       " 3.3767253649380775,\n",
       " 2.222146709214706,\n",
       " 2.3167204919709841,\n",
       " 3.4102466470066131,\n",
       " 0.36868653512571636,\n",
       " 1.5450831695947622,\n",
       " 2.2971058408814082,\n",
       " 2.9873523561538677,\n",
       " 1.3067149827021065,\n",
       " -0.11416838067352826,\n",
       " -2.6697753028410096,\n",
       " 2.6069969406602063,\n",
       " 1.8079649313250872,\n",
       " 0.36629436505340601,\n",
       " 2.8684674374967427,\n",
       " 1.9559449912083595,\n",
       " 0.028794821661404721,\n",
       " 1.6392279298633083,\n",
       " 2.955414053322277,\n",
       " 1.4268895827592427,\n",
       " 2.7359596185884554,\n",
       " 2.2927547239627954,\n",
       " 1.1221015602357234,\n",
       " -3.9290877731369109,\n",
       " 2.6721092890560856,\n",
       " 2.8292098933179313,\n",
       " 3.1092057325049005,\n",
       " 3.3449410169489329,\n",
       " 3.1141880561666366,\n",
       " 1.727954771418962,\n",
       " 1.4483653267745666,\n",
       " 3.2841317664943301,\n",
       " 2.0801778766228001,\n",
       " 1.4621486305189466,\n",
       " -10.08154307253076,\n",
       " -8.81810167108992,\n",
       " 3.0090093777905662,\n",
       " -0.31458913185483017,\n",
       " -0.41332519443111704,\n",
       " -29.564262784681805,\n",
       " 2.2673692370690017,\n",
       " 3.2794672841395633,\n",
       " 1.8319660559809636,\n",
       " 0.80823501623690031,\n",
       " 2.0488940921017673,\n",
       " 1.23454940648609,\n",
       " 0.34066292520678171,\n",
       " 2.9721682129407458,\n",
       " 0.54240939905073637,\n",
       " 1.3355413004666243,\n",
       " 2.4742350438038954,\n",
       " 1.5101333115037461,\n",
       " -0.9238751021977647,\n",
       " 3.3407250571863303,\n",
       " -1.1320140046511293,\n",
       " 2.5041203378423154,\n",
       " 2.1291642632980992,\n",
       " 0.97795328023818462,\n",
       " 1.6374106093571708,\n",
       " 2.1926370618551938,\n",
       " 1.4899703569387621,\n",
       " 2.2120770089519959,\n",
       " 1.0710548864839444,\n",
       " 2.5145616250307246,\n",
       " 1.1648940859619499,\n",
       " 3.4003454896737009,\n",
       " -1.2755600169027781,\n",
       " 0.54380068464063647,\n",
       " 3.2142606676454561,\n",
       " -11.056103615245094,\n",
       " 0.44373712432110252,\n",
       " -6.0628900702272004,\n",
       " -3.3526713593923132,\n",
       " 2.55227697523256,\n",
       " 2.1051781406735737,\n",
       " 1.1994215038943927,\n",
       " 1.8398127858989619,\n",
       " -1.4278585812997582,\n",
       " -1.1053471760986888,\n",
       " 2.495495769273858,\n",
       " -10.442812950951243,\n",
       " 2.0490365891904636,\n",
       " 2.0604714841759293,\n",
       " 2.7744139823585496,\n",
       " 0.95763771733067271,\n",
       " 2.6252106378684839,\n",
       " -2.3198715310895262,\n",
       " -0.86086823431221571,\n",
       " -0.24214213108268831,\n",
       " 2.2047099986488328,\n",
       " 1.3156175888211119,\n",
       " 3.0580927080250606,\n",
       " 0.45883854959880493,\n",
       " 3.3193892495851665,\n",
       " -0.81854176064075657,\n",
       " -1.4308917463684669,\n",
       " 2.1025622384468696,\n",
       " 2.4704800476953066,\n",
       " -8.0867411924431529,\n",
       " 3.0536607446553208,\n",
       " 1.5039309998067016,\n",
       " 2.5852990366479593,\n",
       " 3.3522543956771722,\n",
       " -0.25830550686559889,\n",
       " 3.1701751130828377,\n",
       " 2.8624994202380618,\n",
       " 1.9936176331328086,\n",
       " 1.6076517194746744,\n",
       " 3.2926392169498393,\n",
       " 3.0758830168523872,\n",
       " -5.4274224634398403,\n",
       " 2.7410037724091443,\n",
       " 2.3509767822058021,\n",
       " 3.3595543204820904,\n",
       " 2.5372211007828338,\n",
       " 2.1271285935292248,\n",
       " 2.0842023557047549,\n",
       " 3.6657455265003924,\n",
       " 1.2279050684061845,\n",
       " 3.0209327560981434,\n",
       " 2.080173729057686,\n",
       " 0.29408245101770186,\n",
       " 3.004398652814317,\n",
       " 2.7326980767653604,\n",
       " 2.729388806350515,\n",
       " 2.9629147955473205,\n",
       " 3.1978344843702105,\n",
       " 2.5275909620949544,\n",
       " 0.97277752688391961,\n",
       " 1.0951537180498483,\n",
       " 2.2924902750477343,\n",
       " 3.2531668731669443,\n",
       " 3.4414042631218904,\n",
       " 2.1844491001435431,\n",
       " -0.70281006647770461,\n",
       " 2.1203712432135653,\n",
       " 0.80170722633408553,\n",
       " 3.7284564252592434,\n",
       " 0.66525810079241676,\n",
       " 2.0017319896859767,\n",
       " 2.6876736128599465,\n",
       " -1.8381598396501586,\n",
       " 1.0485460774296982,\n",
       " -1.1491243955730539,\n",
       " 1.9626917237523811,\n",
       " 3.1268014462104023]"
      ]
     },
     "execution_count": 93,
     "metadata": {},
     "output_type": "execute_result"
    }
   ],
   "source": [
    "x"
   ]
  },
  {
   "cell_type": "code",
   "execution_count": 80,
   "metadata": {},
   "outputs": [
    {
     "name": "stdout",
     "output_type": "stream",
     "text": [
      "(10L, 3L)\n"
     ]
    }
   ],
   "source": [
    "data = np.array(np.random.randint(10,size=(10,3)))\n",
    "print data.shape\n"
   ]
  },
  {
   "cell_type": "code",
   "execution_count": 68,
   "metadata": {},
   "outputs": [
    {
     "name": "stdout",
     "output_type": "stream",
     "text": [
      "[[2 5 0]\n",
      " [3 0 3]\n",
      " [8 8 9]\n",
      " [9 2 6]\n",
      " [5 8 6]\n",
      " [7 7 3]\n",
      " [0 5 5]\n",
      " [9 7 2]\n",
      " [8 5 3]\n",
      " [0 6 8]]\n",
      "<matplotlib.mlab.PCA object at 0x000000000B1D22E8>\n",
      "[[-0.90668084 -0.12237255 -1.69479805]\n",
      " [-0.61420315 -2.16191509 -0.56493268]\n",
      " [ 0.8481853   1.10135297  1.69479805]\n",
      " [ 1.14066299 -1.34609808  0.56493268]\n",
      " [-0.02924777  1.10135297  0.56493268]\n",
      " [ 0.55570761  0.69344446 -0.56493268]\n",
      " [-1.49163622 -0.12237255  0.18831089]\n",
      " [ 1.14066299  0.69344446 -0.94155447]\n",
      " [ 0.8481853  -0.12237255 -0.56493268]\n",
      " [-1.49163622  0.28553596  1.31817626]]\n",
      "[[-1.42785099 -0.15143345 -1.28362575]\n",
      " [-2.107551    0.26002087  0.92784118]\n",
      " [ 2.10718328  0.17838188  0.57679775]\n",
      " [-0.21137398 -0.62300442  1.73188555]\n",
      " [ 1.11429061  0.30510286 -0.44525434]\n",
      " [ 0.36184999 -0.78853412 -0.5967442 ]\n",
      " [-0.51836212  1.35883735 -0.40034538]\n",
      " [ 0.35031387 -1.48406769 -0.58593975]\n",
      " [-0.11553022 -1.01592833  0.08991482]\n",
      " [ 0.44703056  1.96062506 -0.01452987]]\n"
     ]
    }
   ],
   "source": [
    "print data\n",
    "results = PCA(data)\n",
    "print results\n",
    "print results.a\n",
    "print results.Y"
   ]
  }
 ],
 "metadata": {
  "kernelspec": {
   "display_name": "Python 2",
   "language": "python",
   "name": "python2"
  },
  "language_info": {
   "codemirror_mode": {
    "name": "ipython",
    "version": 2
   },
   "file_extension": ".py",
   "mimetype": "text/x-python",
   "name": "python",
   "nbconvert_exporter": "python",
   "pygments_lexer": "ipython2",
   "version": "2.7.13"
  }
 },
 "nbformat": 4,
 "nbformat_minor": 2
}

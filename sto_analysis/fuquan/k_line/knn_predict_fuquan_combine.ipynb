{
 "cells": [
  {
   "cell_type": "code",
   "execution_count": 1,
   "metadata": {},
   "outputs": [
    {
     "name": "stdout",
     "output_type": "stream",
     "text": [
      "the path define is in G:\\stock\\code\\package_path_define\n"
     ]
    }
   ],
   "source": [
    "### this script use knn to predict the close price\n",
    "### for fuquan combine data\n",
    "import os\n",
    "import numpy as np\n",
    "import pandas as pd\n",
    "from package_path_define.path_define import *\n",
    "from package_readdata.read_data import find_stocks_in_date_range_fuquan\n",
    "from package_readdata.read_data import read_vol_price_data_fuquan\n",
    "from package_plot.plot_data import *\n",
    "from matplotlib.dates import DayLocator, HourLocator, DateFormatter, drange\n",
    "from numpy import arange\n",
    "from sklearn.neighbors import NearestNeighbors\n",
    "\n",
    "#print path_fuquan\n",
    "from collections import Counter\n",
    "import numpy as np\n",
    "from matplotlib.mlab import PCA\n",
    "import random\n",
    "from read_fuquan_combine import *\n",
    "market='shenzhen'\n",
    "path1='\\\\'.join([main_path_data,'fuquan_combine',market])\n",
    "stock_index_file=\"shanghai_shenzhen_data_from_2013\"\n",
    "stock_path='\\\\'.join([main_path_data,stock_index_file,market])\n",
    "sto2=os.listdir(stock_path)\n"
   ]
  },
  {
   "cell_type": "code",
   "execution_count": 2,
   "metadata": {},
   "outputs": [
    {
     "name": "stdout",
     "output_type": "stream",
     "text": [
      "G:\\\\stock\\\\data\\fuquan_combine\\shenzhen\\000917_fuquan_all.csv\n"
     ]
    }
   ],
   "source": [
    "## load the data and reset index\n",
    "stk_num='000917'\n",
    "file_in1='%s_fuquan_all.csv' %stk_num\n",
    "file_in='\\\\'.join([path1,file_in1])\n",
    "print file_in\n",
    "try:\n",
    "    df1=read_vol_price_data_fuquan(file_in)\n",
    "    #df2=data_df1\n",
    "    df2=df1.sort_values(by=['date'])\n",
    "    data_df1=df2.reset_index(drop=True)\n",
    "except:\n",
    "    pass"
   ]
  },
  {
   "cell_type": "code",
   "execution_count": 3,
   "metadata": {},
   "outputs": [
    {
     "name": "stdout",
     "output_type": "stream",
     "text": [
      "         date   open   high  close    low      volume  trade_amount  \\\n",
      "0  1999-03-25  19.01  20.38  18.99  18.90  32064800.0   629395704.0   \n",
      "1  1999-03-26  18.90  19.46  18.26  18.02   8322600.0   156266563.0   \n",
      "2  1999-03-29  18.20  18.47  18.01  17.71   3945300.0    70956198.0   \n",
      "3  1999-03-30  18.05  18.55  18.29  17.75   2168600.0    39468139.0   \n",
      "4  1999-03-31  18.28  18.59  18.26  18.02   1406700.0    25762359.0   \n",
      "\n",
      "   fuquan_factor  \n",
      "0            1.0  \n",
      "1            1.0  \n",
      "2            1.0  \n",
      "3            1.0  \n",
      "4            1.0  \n"
     ]
    }
   ],
   "source": [
    "print data_df1.head()"
   ]
  },
  {
   "cell_type": "code",
   "execution_count": 125,
   "metadata": {},
   "outputs": [
    {
     "name": "stdout",
     "output_type": "stream",
     "text": [
      "         date    open    high   close     low     volume  trade_amount  \\\n",
      "0  2012-01-04  90.417  91.122  88.302  87.033  4976198.0   125782424.0   \n",
      "1  2012-01-05  88.161  89.535  88.196  87.420  5293841.0   132917320.0   \n",
      "2  2012-01-06  87.314  88.971  88.654  87.314  4969457.0   124352456.0   \n",
      "3  2012-01-09  89.183  91.650  91.545  88.372  4862132.0   125117600.0   \n",
      "4  2012-01-10  91.650  94.047  93.589  90.945  6476328.0   170622304.0   \n",
      "\n",
      "   fuquan_factor  \n",
      "0          3.525  \n",
      "1          3.525  \n",
      "2          3.525  \n",
      "3          3.525  \n",
      "4          3.525  \n",
      "934\n"
     ]
    }
   ],
   "source": [
    "df3=data_df1[(data_df1.date>='2012-01-01')&(data_df1.date<='2016-07-31')]\n",
    "df3=df3.reset_index(drop=True)\n",
    "print df3.head()\n",
    "print len(df3)"
   ]
  },
  {
   "cell_type": "code",
   "execution_count": 160,
   "metadata": {},
   "outputs": [
    {
     "name": "stdout",
     "output_type": "stream",
     "text": [
      "     open    high   close     low\n",
      "4  91.650  94.047  93.589  90.945\n",
      "5  93.272  95.951  94.118  92.003\n",
      "6  93.589  95.105  93.836  92.778\n",
      "7  93.871  94.823  91.615  90.945\n",
      "8  90.945  92.532  89.888  89.148\n",
      "930\n",
      "    close\n",
      "0  88.302\n",
      "1  88.196\n",
      "2  88.654\n",
      "3  91.545\n",
      "4  93.589\n",
      "930\n"
     ]
    }
   ],
   "source": [
    "## get the data, and save after the first 3\n",
    "## for prediction\n",
    "data=df3.loc[4:,['open','high','close','low']]\n",
    "print data.head()\n",
    "print len(data)\n",
    "len1=len(df3)\n",
    "data1=df3.loc[0:len1-5,['close']]\n",
    "print data1.head()\n",
    "print len(data1)"
   ]
  },
  {
   "cell_type": "code",
   "execution_count": 161,
   "metadata": {
    "collapsed": true
   },
   "outputs": [
    {
     "data": {
      "text/plain": [
       "array([[  89.3042],\n",
       "       [  85.0004],\n",
       "       [ 219.841 ],\n",
       "       [ 129.0802],\n",
       "       [  88.2496],\n",
       "       [ 122.3864],\n",
       "       [ 136.4474],\n",
       "       [  71.7122],\n",
       "       [  86.493 ],\n",
       "       [  95.161 ],\n",
       "       [ 123.5308],\n",
       "       [ 123.7034],\n",
       "       [ 215.2622],\n",
       "       [  84.4856],\n",
       "       [ 221.994 ],\n",
       "       [  80.9454],\n",
       "       [ 202.3486],\n",
       "       [ 112.299 ],\n",
       "       [ 177.7198],\n",
       "       [  78.949 ],\n",
       "       [  79.8066],\n",
       "       [ 218.93  ],\n",
       "       [ 137.6268],\n",
       "       [  91.7812],\n",
       "       [  95.4358],\n",
       "       [  96.836 ],\n",
       "       [ 131.2698],\n",
       "       [ 128.5262],\n",
       "       [ 131.1784],\n",
       "       [  78.1224],\n",
       "       [ 126.1586],\n",
       "       [ 113.6786],\n",
       "       [ 215.3404],\n",
       "       [  81.7094],\n",
       "       [ 117.5672],\n",
       "       [ 127.733 ],\n",
       "       [ 109.9392],\n",
       "       [ 117.6558],\n",
       "       [ 115.2786],\n",
       "       [ 181.2878],\n",
       "       [ 155.084 ],\n",
       "       [  83.2378],\n",
       "       [ 118.72  ],\n",
       "       [ 130.382 ],\n",
       "       [ 126.5894],\n",
       "       [ 119.9902],\n",
       "       [  91.7812],\n",
       "       [  80.0408],\n",
       "       [ 236.0536],\n",
       "       [  82.1616],\n",
       "       [ 122.4636],\n",
       "       [ 119.0482],\n",
       "       [  70.87  ],\n",
       "       [ 135.523 ],\n",
       "       [ 111.449 ],\n",
       "       [  82.0058],\n",
       "       [ 122.4148],\n",
       "       [  90.8578],\n",
       "       [ 123.5224],\n",
       "       [  92.5526],\n",
       "       [ 199.0594],\n",
       "       [ 138.884 ],\n",
       "       [ 108.6204],\n",
       "       [ 105.8298],\n",
       "       [ 134.9468],\n",
       "       [ 125.6742],\n",
       "       [  80.7268],\n",
       "       [ 135.963 ],\n",
       "       [ 124.4388],\n",
       "       [ 130.6292],\n",
       "       [  77.5296],\n",
       "       [  85.0424],\n",
       "       [ 107.763 ],\n",
       "       [  86.4196],\n",
       "       [  93.9412],\n",
       "       [ 119.6982],\n",
       "       [  97.2354],\n",
       "       [ 136.3918],\n",
       "       [ 134.8406],\n",
       "       [ 120.425 ],\n",
       "       [  81.6314],\n",
       "       [ 126.5348],\n",
       "       [  94.3152],\n",
       "       [  97.6532],\n",
       "       [ 139.641 ],\n",
       "       [ 120.5352],\n",
       "       [ 210.9888],\n",
       "       [ 140.512 ],\n",
       "       [ 214.6788],\n",
       "       [ 124.0984],\n",
       "       [ 134.7594],\n",
       "       [ 135.0876],\n",
       "       [  92.3732],\n",
       "       [ 128.4282],\n",
       "       [ 107.3502],\n",
       "       [ 109.035 ],\n",
       "       [ 217.7164],\n",
       "       [ 121.822 ],\n",
       "       [ 135.7122],\n",
       "       [ 137.3942],\n",
       "       [ 134.538 ],\n",
       "       [  94.6604],\n",
       "       [ 133.8996],\n",
       "       [ 111.0312],\n",
       "       [ 124.6986],\n",
       "       [  79.0738],\n",
       "       [  93.4038],\n",
       "       [ 112.6912],\n",
       "       [ 221.1798],\n",
       "       [  78.2004],\n",
       "       [ 126.0112],\n",
       "       [  79.0736],\n",
       "       [ 121.2782],\n",
       "       [ 133.5734],\n",
       "       [ 117.0828],\n",
       "       [ 137.7538],\n",
       "       [  87.4178],\n",
       "       [ 139.5742],\n",
       "       [ 169.2956],\n",
       "       [ 120.11  ],\n",
       "       [ 126.907 ],\n",
       "       [ 110.6724],\n",
       "       [  98.7214],\n",
       "       [  70.87  ],\n",
       "       [ 171.3904],\n",
       "       [  71.7122],\n",
       "       [ 132.8988],\n",
       "       [  82.1616],\n",
       "       [ 101.1942],\n",
       "       [ 119.7352],\n",
       "       [ 116.8802],\n",
       "       [ 100.4378],\n",
       "       [ 124.6324],\n",
       "       [ 132.524 ],\n",
       "       [ 112.8008],\n",
       "       [  84.6884],\n",
       "       [ 113.2502],\n",
       "       [ 213.052 ],\n",
       "       [  86.591 ],\n",
       "       [ 135.4128],\n",
       "       [ 145.2062],\n",
       "       [ 110.0018],\n",
       "       [ 247.417 ],\n",
       "       [ 131.9   ],\n",
       "       [ 128.2162],\n",
       "       [ 111.499 ],\n",
       "       [ 121.8246],\n",
       "       [  70.87  ],\n",
       "       [ 121.995 ],\n",
       "       [ 121.822 ],\n",
       "       [ 108.3798],\n",
       "       [ 110.3448],\n",
       "       [ 132.407 ],\n",
       "       [ 119.6982],\n",
       "       [  95.161 ],\n",
       "       [ 133.8838],\n",
       "       [ 107.8806],\n",
       "       [ 147.7086],\n",
       "       [ 111.5214],\n",
       "       [  84.3766],\n",
       "       [ 128.0206],\n",
       "       [ 140.5194],\n",
       "       [ 111.0002],\n",
       "       [ 117.6558],\n",
       "       [ 118.8698],\n",
       "       [ 128.2168],\n",
       "       [ 132.0942],\n",
       "       [ 126.0834],\n",
       "       [ 133.0916],\n",
       "       [ 161.3828],\n",
       "       [ 139.6664],\n",
       "       [ 140.5378],\n",
       "       [ 111.7174],\n",
       "       [  90.3798],\n",
       "       [ 110.1578],\n",
       "       [  69.4976],\n",
       "       [ 123.696 ],\n",
       "       [ 113.0432],\n",
       "       [  95.1822],\n",
       "       [ 133.7068],\n",
       "       [ 125.1688],\n",
       "       [ 163.0868],\n",
       "       [ 130.5156],\n",
       "       [ 136.7742],\n",
       "       [  85.5306],\n",
       "       [ 111.449 ],\n",
       "       [  85.172 ],\n",
       "       [  83.4564],\n",
       "       [ 111.6082],\n",
       "       [ 139.9318],\n",
       "       [  82.8948],\n",
       "       [ 108.5926],\n",
       "       [ 150.0182],\n",
       "       [  91.8234],\n",
       "       [ 105.594 ],\n",
       "       [ 106.5652],\n",
       "       [  81.8812],\n",
       "       [ 141.2938],\n",
       "       [  73.7086],\n",
       "       [  88.4264],\n",
       "       [ 124.4462],\n",
       "       [  83.7838],\n",
       "       [  93.9412],\n",
       "       [  84.7664],\n",
       "       [ 171.5916],\n",
       "       [  85.0004],\n",
       "       [  85.2498],\n",
       "       [  90.8942],\n",
       "       [ 136.2872],\n",
       "       [ 114.604 ],\n",
       "       [ 111.8404],\n",
       "       [ 112.045 ],\n",
       "       [ 129.087 ],\n",
       "       [ 135.6924],\n",
       "       [  91.159 ],\n",
       "       [ 104.0024],\n",
       "       [  97.6356],\n",
       "       [ 193.4782],\n",
       "       [  99.0316],\n",
       "       [ 112.5754],\n",
       "       [ 138.4022],\n",
       "       [ 117.4432],\n",
       "       [ 215.447 ],\n",
       "       [ 129.087 ],\n",
       "       [ 126.4916],\n",
       "       [ 136.338 ],\n",
       "       [ 113.1822],\n",
       "       [  83.503 ],\n",
       "       [ 121.7284],\n",
       "       [ 139.4058],\n",
       "       [  96.7674],\n",
       "       [ 212.9738],\n",
       "       [  76.6874],\n",
       "       [ 111.8268],\n",
       "       [ 127.2402],\n",
       "       [ 126.7934],\n",
       "       [ 107.7004],\n",
       "       [ 110.1578],\n",
       "       [  84.0022],\n",
       "       [  82.9416],\n",
       "       [ 110.9844],\n",
       "       [ 216.5596],\n",
       "       [ 110.8286],\n",
       "       [ 217.7164],\n",
       "       [ 111.655 ],\n",
       "       [  78.4186],\n",
       "       [ 124.74  ],\n",
       "       [  78.45  ],\n",
       "       [ 131.824 ],\n",
       "       [ 107.911 ],\n",
       "       [  86.4508],\n",
       "       [ 109.4558],\n",
       "       [ 138.2874],\n",
       "       [ 109.5806],\n",
       "       [ 113.4172],\n",
       "       [ 109.5806],\n",
       "       [ 111.0606],\n",
       "       [  88.877 ],\n",
       "       [ 199.0594],\n",
       "       [ 131.5546],\n",
       "       [ 173.3268],\n",
       "       [ 163.0712],\n",
       "       [ 140.8102],\n",
       "       [ 128.2168],\n",
       "       [ 215.473 ],\n",
       "       [  85.9518],\n",
       "       [ 163.0868],\n",
       "       [ 137.442 ],\n",
       "       [ 113.5178],\n",
       "       [ 103.1142],\n",
       "       [ 116.1624],\n",
       "       [ 214.0528],\n",
       "       [  97.127 ],\n",
       "       [ 108.7696],\n",
       "       [ 210.9888],\n",
       "       [  80.6644],\n",
       "       [ 138.2282],\n",
       "       [  89.592 ],\n",
       "       [ 129.3582],\n",
       "       [  95.6382],\n",
       "       [ 133.9464],\n",
       "       [ 109.3934],\n",
       "       [ 106.5276],\n",
       "       [ 245.0564],\n",
       "       [ 109.0816],\n",
       "       [  95.235 ],\n",
       "       [ 140.3532],\n",
       "       [  87.3242],\n",
       "       [  82.0838],\n",
       "       [  83.16  ],\n",
       "       [ 130.7574],\n",
       "       [ 113.667 ],\n",
       "       [ 122.1814],\n",
       "       [ 107.4722],\n",
       "       [ 262.1874],\n",
       "       [ 128.709 ],\n",
       "       [  85.5572],\n",
       "       [ 123.7172],\n",
       "       [  85.172 ],\n",
       "       [  81.6314],\n",
       "       [  96.836 ],\n",
       "       [  84.4546],\n",
       "       [ 126.5592],\n",
       "       [  96.5488],\n",
       "       [ 125.6742],\n",
       "       [ 136.6564],\n",
       "       [  86.5134],\n",
       "       [ 121.9   ],\n",
       "       [ 108.0438],\n",
       "       [ 110.7192],\n",
       "       [  80.8206],\n",
       "       [  86.493 ],\n",
       "       [ 107.763 ],\n",
       "       [ 214.3808],\n",
       "       [ 110.4386],\n",
       "       [  95.4358],\n",
       "       [  70.87  ],\n",
       "       [ 227.8636],\n",
       "       [  97.5428],\n",
       "       [ 101.9424],\n",
       "       [  83.7994],\n",
       "       [ 118.2058],\n",
       "       [  86.6538],\n",
       "       [ 108.6758],\n",
       "       [ 128.0124],\n",
       "       [ 121.3838],\n",
       "       [ 133.587 ],\n",
       "       [ 106.5652],\n",
       "       [ 137.368 ],\n",
       "       [ 117.5672],\n",
       "       [  95.161 ],\n",
       "       [  94.3152],\n",
       "       [ 140.5534],\n",
       "       [ 114.3692],\n",
       "       [  94.449 ],\n",
       "       [  79.0736],\n",
       "       [  81.382 ],\n",
       "       [ 159.6084],\n",
       "       [  94.6886],\n",
       "       [ 135.8372],\n",
       "       [ 113.2458],\n",
       "       [ 111.2882],\n",
       "       [ 120.4258],\n",
       "       [ 132.407 ],\n",
       "       [ 141.2938],\n",
       "       [ 129.2408],\n",
       "       [  91.45  ],\n",
       "       [  78.1224],\n",
       "       [ 105.3248],\n",
       "       [ 140.3236],\n",
       "       [ 119.07  ],\n",
       "       [  84.9692],\n",
       "       [  96.8184],\n",
       "       [  80.8206],\n",
       "       [ 140.3236],\n",
       "       [ 123.5576],\n",
       "       [ 155.084 ],\n",
       "       [ 147.6178],\n",
       "       [ 134.9468],\n",
       "       [ 109.7678],\n",
       "       [  79.8066],\n",
       "       [ 215.473 ],\n",
       "       [  78.45  ],\n",
       "       [  99.6926],\n",
       "       [ 120.4104],\n",
       "       [ 134.0874],\n",
       "       [ 201.1854],\n",
       "       [ 111.0606],\n",
       "       [  77.3114],\n",
       "       [ 111.2496],\n",
       "       [ 126.9646],\n",
       "       [ 116.5588]])"
      ]
     },
     "execution_count": 161,
     "metadata": {},
     "output_type": "execute_result"
    }
   ],
   "source": [
    "from sklearn.neighbors import KNeighborsClassifier\n",
    "from sklearn import cross_validation\n",
    "from sklearn.neighbors import KNeighborsRegressor\n",
    "\n",
    "data=df3.loc[4:,['open','high','close','low']]\n",
    "labels =df3.loc[0:len1-5,['close']]\n",
    "x_train, x_test, y_train, y_test = cross_validation.train_test_split(data,labels, test_size=0.4, random_state=1 )\n",
    "knn = KNeighborsRegressor(n_neighbors=5)\n",
    "knn.fit(x_train,y_train)"
   ]
  },
  {
   "cell_type": "code",
   "execution_count": 164,
   "metadata": {
    "collapsed": true
   },
   "outputs": [
    {
     "ename": "ValueError",
     "evalue": "Found input variables with inconsistent numbers of samples: [930, 931]",
     "output_type": "error",
     "traceback": [
      "\u001b[1;31m\u001b[0m",
      "\u001b[1;31mValueError\u001b[0mTraceback (most recent call last)",
      "\u001b[1;32m<ipython-input-164-9fd515e0f1aa>\u001b[0m in \u001b[0;36m<module>\u001b[1;34m()\u001b[0m\n\u001b[0;32m      1\u001b[0m \u001b[0mdata\u001b[0m\u001b[1;33m=\u001b[0m\u001b[0mdf3\u001b[0m\u001b[1;33m.\u001b[0m\u001b[0mloc\u001b[0m\u001b[1;33m[\u001b[0m\u001b[1;36m4\u001b[0m\u001b[1;33m:\u001b[0m\u001b[1;33m,\u001b[0m\u001b[1;33m[\u001b[0m\u001b[1;34m'open'\u001b[0m\u001b[1;33m,\u001b[0m\u001b[1;34m'high'\u001b[0m\u001b[1;33m,\u001b[0m\u001b[1;34m'close'\u001b[0m\u001b[1;33m,\u001b[0m\u001b[1;34m'low'\u001b[0m\u001b[1;33m]\u001b[0m\u001b[1;33m]\u001b[0m\u001b[1;33m\u001b[0m\u001b[0m\n\u001b[0;32m      2\u001b[0m \u001b[0mlabels\u001b[0m \u001b[1;33m=\u001b[0m\u001b[0mdf3\u001b[0m\u001b[1;33m.\u001b[0m\u001b[0mloc\u001b[0m\u001b[1;33m[\u001b[0m\u001b[1;36m1\u001b[0m\u001b[1;33m:\u001b[0m\u001b[0mlen1\u001b[0m\u001b[1;33m-\u001b[0m\u001b[1;36m4\u001b[0m\u001b[1;33m,\u001b[0m\u001b[1;33m[\u001b[0m\u001b[1;34m'close'\u001b[0m\u001b[1;33m]\u001b[0m\u001b[1;33m]\u001b[0m\u001b[1;33m-\u001b[0m\u001b[0mdf3\u001b[0m\u001b[1;33m.\u001b[0m\u001b[0mloc\u001b[0m\u001b[1;33m[\u001b[0m\u001b[1;36m0\u001b[0m\u001b[1;33m:\u001b[0m\u001b[0mlen1\u001b[0m\u001b[1;33m-\u001b[0m\u001b[1;36m5\u001b[0m\u001b[1;33m,\u001b[0m\u001b[1;33m[\u001b[0m\u001b[1;34m'close'\u001b[0m\u001b[1;33m]\u001b[0m\u001b[1;33m]\u001b[0m\u001b[1;33m\u001b[0m\u001b[0m\n\u001b[1;32m----> 3\u001b[1;33m \u001b[0mx_train\u001b[0m\u001b[1;33m,\u001b[0m \u001b[0mx_test\u001b[0m\u001b[1;33m,\u001b[0m \u001b[0my_train\u001b[0m\u001b[1;33m,\u001b[0m \u001b[0my_test\u001b[0m \u001b[1;33m=\u001b[0m \u001b[0mcross_validation\u001b[0m\u001b[1;33m.\u001b[0m\u001b[0mtrain_test_split\u001b[0m\u001b[1;33m(\u001b[0m\u001b[0mdata\u001b[0m\u001b[1;33m,\u001b[0m\u001b[0mlabels\u001b[0m\u001b[1;33m,\u001b[0m \u001b[0mtest_size\u001b[0m\u001b[1;33m=\u001b[0m\u001b[1;36m0.4\u001b[0m\u001b[1;33m,\u001b[0m \u001b[0mrandom_state\u001b[0m\u001b[1;33m=\u001b[0m\u001b[1;36m1\u001b[0m \u001b[1;33m)\u001b[0m\u001b[1;33m\u001b[0m\u001b[0m\n\u001b[0m\u001b[0;32m      4\u001b[0m \u001b[0mknn\u001b[0m \u001b[1;33m=\u001b[0m \u001b[0mKNeighborsRegressor\u001b[0m\u001b[1;33m(\u001b[0m\u001b[0mn_neighbors\u001b[0m\u001b[1;33m=\u001b[0m\u001b[1;36m5\u001b[0m\u001b[1;33m)\u001b[0m\u001b[1;33m\u001b[0m\u001b[0m\n\u001b[0;32m      5\u001b[0m \u001b[0mknn\u001b[0m\u001b[1;33m.\u001b[0m\u001b[0mfit\u001b[0m\u001b[1;33m(\u001b[0m\u001b[0mx_train\u001b[0m\u001b[1;33m,\u001b[0m\u001b[0my_train\u001b[0m\u001b[1;33m)\u001b[0m\u001b[1;33m\u001b[0m\u001b[0m\n",
      "\u001b[1;32mG:\\Anaconda2\\lib\\site-packages\\sklearn\\cross_validation.py\u001b[0m in \u001b[0;36mtrain_test_split\u001b[1;34m(*arrays, **options)\u001b[0m\n\u001b[0;32m   2057\u001b[0m     \u001b[1;32mif\u001b[0m \u001b[0mtest_size\u001b[0m \u001b[1;32mis\u001b[0m \u001b[0mNone\u001b[0m \u001b[1;32mand\u001b[0m \u001b[0mtrain_size\u001b[0m \u001b[1;32mis\u001b[0m \u001b[0mNone\u001b[0m\u001b[1;33m:\u001b[0m\u001b[1;33m\u001b[0m\u001b[0m\n\u001b[0;32m   2058\u001b[0m         \u001b[0mtest_size\u001b[0m \u001b[1;33m=\u001b[0m \u001b[1;36m0.25\u001b[0m\u001b[1;33m\u001b[0m\u001b[0m\n\u001b[1;32m-> 2059\u001b[1;33m     \u001b[0marrays\u001b[0m \u001b[1;33m=\u001b[0m \u001b[0mindexable\u001b[0m\u001b[1;33m(\u001b[0m\u001b[1;33m*\u001b[0m\u001b[0marrays\u001b[0m\u001b[1;33m)\u001b[0m\u001b[1;33m\u001b[0m\u001b[0m\n\u001b[0m\u001b[0;32m   2060\u001b[0m     \u001b[1;32mif\u001b[0m \u001b[0mstratify\u001b[0m \u001b[1;32mis\u001b[0m \u001b[1;32mnot\u001b[0m \u001b[0mNone\u001b[0m\u001b[1;33m:\u001b[0m\u001b[1;33m\u001b[0m\u001b[0m\n\u001b[0;32m   2061\u001b[0m         cv = StratifiedShuffleSplit(stratify, test_size=test_size,\n",
      "\u001b[1;32mG:\\Anaconda2\\lib\\site-packages\\sklearn\\utils\\validation.pyc\u001b[0m in \u001b[0;36mindexable\u001b[1;34m(*iterables)\u001b[0m\n\u001b[0;32m    196\u001b[0m         \u001b[1;32melse\u001b[0m\u001b[1;33m:\u001b[0m\u001b[1;33m\u001b[0m\u001b[0m\n\u001b[0;32m    197\u001b[0m             \u001b[0mresult\u001b[0m\u001b[1;33m.\u001b[0m\u001b[0mappend\u001b[0m\u001b[1;33m(\u001b[0m\u001b[0mnp\u001b[0m\u001b[1;33m.\u001b[0m\u001b[0marray\u001b[0m\u001b[1;33m(\u001b[0m\u001b[0mX\u001b[0m\u001b[1;33m)\u001b[0m\u001b[1;33m)\u001b[0m\u001b[1;33m\u001b[0m\u001b[0m\n\u001b[1;32m--> 198\u001b[1;33m     \u001b[0mcheck_consistent_length\u001b[0m\u001b[1;33m(\u001b[0m\u001b[1;33m*\u001b[0m\u001b[0mresult\u001b[0m\u001b[1;33m)\u001b[0m\u001b[1;33m\u001b[0m\u001b[0m\n\u001b[0m\u001b[0;32m    199\u001b[0m     \u001b[1;32mreturn\u001b[0m \u001b[0mresult\u001b[0m\u001b[1;33m\u001b[0m\u001b[0m\n\u001b[0;32m    200\u001b[0m \u001b[1;33m\u001b[0m\u001b[0m\n",
      "\u001b[1;32mG:\\Anaconda2\\lib\\site-packages\\sklearn\\utils\\validation.pyc\u001b[0m in \u001b[0;36mcheck_consistent_length\u001b[1;34m(*arrays)\u001b[0m\n\u001b[0;32m    171\u001b[0m     \u001b[1;32mif\u001b[0m \u001b[0mlen\u001b[0m\u001b[1;33m(\u001b[0m\u001b[0muniques\u001b[0m\u001b[1;33m)\u001b[0m \u001b[1;33m>\u001b[0m \u001b[1;36m1\u001b[0m\u001b[1;33m:\u001b[0m\u001b[1;33m\u001b[0m\u001b[0m\n\u001b[0;32m    172\u001b[0m         raise ValueError(\"Found input variables with inconsistent numbers of\"\n\u001b[1;32m--> 173\u001b[1;33m                          \" samples: %r\" % [int(l) for l in lengths])\n\u001b[0m\u001b[0;32m    174\u001b[0m \u001b[1;33m\u001b[0m\u001b[0m\n\u001b[0;32m    175\u001b[0m \u001b[1;33m\u001b[0m\u001b[0m\n",
      "\u001b[1;31mValueError\u001b[0m: Found input variables with inconsistent numbers of samples: [930, 931]"
     ]
    }
   ],
   "source": [
    "data=df3.loc[4:,['open','high','close','low']]\n",
    "labels =df3.loc[1:len1-4,['close']]-df3.loc[0:len1-5,['close']]\n",
    "x_train, x_test, y_train, y_test = cross_validation.train_test_split(data,labels, test_size=0.4, random_state=1 )\n",
    "knn = KNeighborsRegressor(n_neighbors=5)\n",
    "knn.fit(x_train,y_train)"
   ]
  },
  {
   "cell_type": "code",
   "execution_count": 173,
   "metadata": {},
   "outputs": [
    {
     "name": "stdout",
     "output_type": "stream",
     "text": [
      "      close\n",
      "0    -0.106\n",
      "1     0.458\n",
      "2     2.891\n",
      "3     2.044\n",
      "4     0.529\n",
      "5    -0.282\n",
      "6    -2.221\n",
      "7    -1.727\n",
      "8     5.076\n",
      "9    -3.560\n",
      "10   -1.410\n",
      "11    0.599\n",
      "12    1.163\n",
      "13    0.705\n",
      "14   -0.846\n",
      "15    2.362\n",
      "16    1.445\n",
      "17   -0.247\n",
      "18   -1.092\n",
      "19    1.269\n",
      "20    0.916\n",
      "21   -0.987\n",
      "22    0.423\n",
      "23    2.291\n",
      "24    0.705\n",
      "25   -1.057\n",
      "26    1.586\n",
      "27   -0.352\n",
      "28    1.762\n",
      "29    1.657\n",
      "..      ...\n",
      "900   3.445\n",
      "901  -2.271\n",
      "902   1.409\n",
      "903   0.235\n",
      "904   4.228\n",
      "905   0.000\n",
      "906  -1.644\n",
      "907   2.035\n",
      "908   2.349\n",
      "909   0.470\n",
      "910   1.096\n",
      "911   3.679\n",
      "912  -2.662\n",
      "913   2.036\n",
      "914  -0.235\n",
      "915   0.626\n",
      "916  -2.270\n",
      "917   0.000\n",
      "918   0.078\n",
      "919   1.805\n",
      "920   4.395\n",
      "921   1.805\n",
      "922   1.020\n",
      "923   4.709\n",
      "924  -0.235\n",
      "925  -0.785\n",
      "926   0.785\n",
      "927   2.668\n",
      "928  10.360\n",
      "929  -2.119\n",
      "\n",
      "[930 rows x 1 columns]\n"
     ]
    }
   ],
   "source": [
    "a1=df3.loc[1:len1-4,['close']]\n",
    "a2=df3.loc[0:len1-5,['close']]\n",
    "a11=a1.reset_index(drop=True)\n",
    "a22=a2.reset_index(drop=True)\n",
    "\n",
    "print a11-a22\n",
    "#-df3.loc[0:len1-5,['close']]"
   ]
  },
  {
   "cell_type": "code",
   "execution_count": 163,
   "metadata": {},
   "outputs": [
    {
     "data": {
      "image/png": "[encoded data removed]",
      "text/plain": [
       "<matplotlib.figure.Figure at 0xf0c5048>"
      ]
     },
     "metadata": {},
     "output_type": "display_data"
    }
   ],
   "source": [
    "import matplotlib.pyplot as plt\n",
    "p_x=knn.predict(x_test)\n",
    "y_x=y_test\n",
    "plt.figure()\n",
    "plt.scatter(y_x,p_x)\n",
    "plt.show()"
   ]
  },
  {
   "cell_type": "code",
   "execution_count": 159,
   "metadata": {
    "collapsed": true
   },
   "outputs": [
    {
     "ename": "ValueError",
     "evalue": "Found input variables with inconsistent numbers of samples: [4, 930]",
     "output_type": "error",
     "traceback": [
      "\u001b[1;31m\u001b[0m",
      "\u001b[1;31mValueError\u001b[0mTraceback (most recent call last)",
      "\u001b[1;32m<ipython-input-159-3e83bea41f5c>\u001b[0m in \u001b[0;36m<module>\u001b[1;34m()\u001b[0m\n\u001b[0;32m      5\u001b[0m \u001b[0mdata\u001b[0m\u001b[1;33m=\u001b[0m\u001b[0mdf3\u001b[0m\u001b[1;33m.\u001b[0m\u001b[0mloc\u001b[0m\u001b[1;33m[\u001b[0m\u001b[1;36m5\u001b[0m\u001b[1;33m,\u001b[0m\u001b[1;33m[\u001b[0m\u001b[1;34m'open'\u001b[0m\u001b[1;33m,\u001b[0m\u001b[1;34m'high'\u001b[0m\u001b[1;33m,\u001b[0m\u001b[1;34m'close'\u001b[0m\u001b[1;33m,\u001b[0m\u001b[1;34m'low'\u001b[0m\u001b[1;33m]\u001b[0m\u001b[1;33m]\u001b[0m\u001b[1;33m\u001b[0m\u001b[0m\n\u001b[0;32m      6\u001b[0m \u001b[0mlabels\u001b[0m \u001b[1;33m=\u001b[0m \u001b[0mdf3\u001b[0m\u001b[1;33m.\u001b[0m\u001b[0mloc\u001b[0m\u001b[1;33m[\u001b[0m\u001b[1;36m0\u001b[0m\u001b[1;33m:\u001b[0m\u001b[0mlen1\u001b[0m\u001b[1;33m-\u001b[0m\u001b[1;36m5\u001b[0m\u001b[1;33m,\u001b[0m\u001b[1;33m[\u001b[0m\u001b[1;34m'close'\u001b[0m\u001b[1;33m]\u001b[0m\u001b[1;33m]\u001b[0m\u001b[1;33m\u001b[0m\u001b[0m\n\u001b[1;32m----> 7\u001b[1;33m \u001b[0mx_train\u001b[0m\u001b[1;33m,\u001b[0m \u001b[0mx_test\u001b[0m\u001b[1;33m,\u001b[0m \u001b[0my_train\u001b[0m\u001b[1;33m,\u001b[0m \u001b[0my_test\u001b[0m \u001b[1;33m=\u001b[0m \u001b[0mcross_validation\u001b[0m\u001b[1;33m.\u001b[0m\u001b[0mtrain_test_split\u001b[0m\u001b[1;33m(\u001b[0m\u001b[0mdata\u001b[0m\u001b[1;33m,\u001b[0m\u001b[0mlabels\u001b[0m\u001b[1;33m,\u001b[0m \u001b[0mtest_size\u001b[0m\u001b[1;33m=\u001b[0m\u001b[1;36m0.4\u001b[0m\u001b[1;33m,\u001b[0m \u001b[0mrandom_state\u001b[0m\u001b[1;33m=\u001b[0m\u001b[1;36m1\u001b[0m \u001b[1;33m)\u001b[0m\u001b[1;33m\u001b[0m\u001b[0m\n\u001b[0m\u001b[0;32m      8\u001b[0m \u001b[0mknn\u001b[0m \u001b[1;33m=\u001b[0m \u001b[0mKNeighborsRegressor\u001b[0m\u001b[1;33m(\u001b[0m\u001b[0mn_neighbors\u001b[0m\u001b[1;33m=\u001b[0m\u001b[1;36m5\u001b[0m\u001b[1;33m)\u001b[0m\u001b[1;33m\u001b[0m\u001b[0m\n\u001b[0;32m      9\u001b[0m \u001b[0mknn\u001b[0m\u001b[1;33m.\u001b[0m\u001b[0mfit\u001b[0m\u001b[1;33m(\u001b[0m\u001b[0mx_train\u001b[0m\u001b[1;33m,\u001b[0m\u001b[0my_train\u001b[0m\u001b[1;33m)\u001b[0m\u001b[1;33m\u001b[0m\u001b[0m\n",
      "\u001b[1;32mG:\\Anaconda2\\lib\\site-packages\\sklearn\\cross_validation.py\u001b[0m in \u001b[0;36mtrain_test_split\u001b[1;34m(*arrays, **options)\u001b[0m\n\u001b[0;32m   2057\u001b[0m     \u001b[1;32mif\u001b[0m \u001b[0mtest_size\u001b[0m \u001b[1;32mis\u001b[0m \u001b[0mNone\u001b[0m \u001b[1;32mand\u001b[0m \u001b[0mtrain_size\u001b[0m \u001b[1;32mis\u001b[0m \u001b[0mNone\u001b[0m\u001b[1;33m:\u001b[0m\u001b[1;33m\u001b[0m\u001b[0m\n\u001b[0;32m   2058\u001b[0m         \u001b[0mtest_size\u001b[0m \u001b[1;33m=\u001b[0m \u001b[1;36m0.25\u001b[0m\u001b[1;33m\u001b[0m\u001b[0m\n\u001b[1;32m-> 2059\u001b[1;33m     \u001b[0marrays\u001b[0m \u001b[1;33m=\u001b[0m \u001b[0mindexable\u001b[0m\u001b[1;33m(\u001b[0m\u001b[1;33m*\u001b[0m\u001b[0marrays\u001b[0m\u001b[1;33m)\u001b[0m\u001b[1;33m\u001b[0m\u001b[0m\n\u001b[0m\u001b[0;32m   2060\u001b[0m     \u001b[1;32mif\u001b[0m \u001b[0mstratify\u001b[0m \u001b[1;32mis\u001b[0m \u001b[1;32mnot\u001b[0m \u001b[0mNone\u001b[0m\u001b[1;33m:\u001b[0m\u001b[1;33m\u001b[0m\u001b[0m\n\u001b[0;32m   2061\u001b[0m         cv = StratifiedShuffleSplit(stratify, test_size=test_size,\n",
      "\u001b[1;32mG:\\Anaconda2\\lib\\site-packages\\sklearn\\utils\\validation.pyc\u001b[0m in \u001b[0;36mindexable\u001b[1;34m(*iterables)\u001b[0m\n\u001b[0;32m    196\u001b[0m         \u001b[1;32melse\u001b[0m\u001b[1;33m:\u001b[0m\u001b[1;33m\u001b[0m\u001b[0m\n\u001b[0;32m    197\u001b[0m             \u001b[0mresult\u001b[0m\u001b[1;33m.\u001b[0m\u001b[0mappend\u001b[0m\u001b[1;33m(\u001b[0m\u001b[0mnp\u001b[0m\u001b[1;33m.\u001b[0m\u001b[0marray\u001b[0m\u001b[1;33m(\u001b[0m\u001b[0mX\u001b[0m\u001b[1;33m)\u001b[0m\u001b[1;33m)\u001b[0m\u001b[1;33m\u001b[0m\u001b[0m\n\u001b[1;32m--> 198\u001b[1;33m     \u001b[0mcheck_consistent_length\u001b[0m\u001b[1;33m(\u001b[0m\u001b[1;33m*\u001b[0m\u001b[0mresult\u001b[0m\u001b[1;33m)\u001b[0m\u001b[1;33m\u001b[0m\u001b[0m\n\u001b[0m\u001b[0;32m    199\u001b[0m     \u001b[1;32mreturn\u001b[0m \u001b[0mresult\u001b[0m\u001b[1;33m\u001b[0m\u001b[0m\n\u001b[0;32m    200\u001b[0m \u001b[1;33m\u001b[0m\u001b[0m\n",
      "\u001b[1;32mG:\\Anaconda2\\lib\\site-packages\\sklearn\\utils\\validation.pyc\u001b[0m in \u001b[0;36mcheck_consistent_length\u001b[1;34m(*arrays)\u001b[0m\n\u001b[0;32m    171\u001b[0m     \u001b[1;32mif\u001b[0m \u001b[0mlen\u001b[0m\u001b[1;33m(\u001b[0m\u001b[0muniques\u001b[0m\u001b[1;33m)\u001b[0m \u001b[1;33m>\u001b[0m \u001b[1;36m1\u001b[0m\u001b[1;33m:\u001b[0m\u001b[1;33m\u001b[0m\u001b[0m\n\u001b[0;32m    172\u001b[0m         raise ValueError(\"Found input variables with inconsistent numbers of\"\n\u001b[1;32m--> 173\u001b[1;33m                          \" samples: %r\" % [int(l) for l in lengths])\n\u001b[0m\u001b[0;32m    174\u001b[0m \u001b[1;33m\u001b[0m\u001b[0m\n\u001b[0;32m    175\u001b[0m \u001b[1;33m\u001b[0m\u001b[0m\n",
      "\u001b[1;31mValueError\u001b[0m: Found input variables with inconsistent numbers of samples: [4, 930]"
     ]
    }
   ],
   "source": [
    "from sklearn.neighbors import KNeighborsClassifier\n",
    "from sklearn import cross_validation\n",
    "from sklearn.neighbors import KNeighborsRegressor\n",
    "\n",
    "data=df3.loc[5,['open','high','close','low']]\n",
    "labels = df3.loc[0:len1-5,['close']]\n",
    "x_train, x_test, y_train, y_test = cross_validation.train_test_split(data,labels, test_size=0.4, random_state=1 )\n",
    "knn = KNeighborsRegressor(n_neighbors=5)\n",
    "knn.fit(x_train,y_train)\n",
    "#knn.predict(x_test)"
   ]
  },
  {
   "cell_type": "code",
   "execution_count": 162,
   "metadata": {},
   "outputs": [
    {
     "data": {
      "image/png": "[encoded data removed]",
      "text/plain": [
       "<matplotlib.figure.Figure at 0xfad8b00>"
      ]
     },
     "metadata": {},
     "output_type": "display_data"
    }
   ],
   "source": []
  },
  {
   "cell_type": "code",
   "execution_count": 114,
   "metadata": {},
   "outputs": [
    {
     "name": "stdout",
     "output_type": "stream",
     "text": [
      "     open   high  close    low\n",
      "10  29.00  29.78  29.22  28.08\n",
      "9   29.50  32.14  32.14  29.41\n",
      "8   32.64  34.70  30.57  30.40\n",
      "7   31.00  33.63  33.63  30.60\n",
      "6   35.00  35.80  34.40  33.66\n",
      "5   34.00  34.25  30.96  30.96\n",
      "4   19.01  20.38  18.99  18.90\n",
      "3   18.90  19.46  18.26  18.02\n",
      "2   18.20  18.47  18.01  17.71\n"
     ]
    }
   ],
   "source": [
    "#data=df3.loc[2,['open','high','close','low']]\n",
    "print df1.loc[10:2,['open','high','close','low']]"
   ]
  },
  {
   "cell_type": "code",
   "execution_count": 158,
   "metadata": {},
   "outputs": [
    {
     "data": {
      "image/png": "[encoded data removed]",
      "text/plain": [
       "<matplotlib.figure.Figure at 0xe7d6048>"
      ]
     },
     "metadata": {},
     "output_type": "display_data"
    }
   ],
   "source": []
  },
  {
   "cell_type": "code",
   "execution_count": 85,
   "metadata": {},
   "outputs": [
    {
     "name": "stdout",
     "output_type": "stream",
     "text": [
      "<class 'pandas.core.frame.DataFrame'>\n"
     ]
    }
   ],
   "source": [
    "print type(y_test)"
   ]
  },
  {
   "cell_type": "code",
   "execution_count": 50,
   "metadata": {
    "collapsed": true
   },
   "outputs": [
    {
     "ename": "ValueError",
     "evalue": "Location based indexing can only have [integer, integer slice (START point is INCLUDED, END point is EXCLUDED), listlike of integers, boolean array] types",
     "output_type": "error",
     "traceback": [
      "\u001b[1;31m\u001b[0m",
      "\u001b[1;31mValueError\u001b[0mTraceback (most recent call last)",
      "\u001b[1;32m<ipython-input-50-9324a1f3b941>\u001b[0m in \u001b[0;36m<module>\u001b[1;34m()\u001b[0m\n\u001b[0;32m      4\u001b[0m \u001b[1;33m\u001b[0m\u001b[0m\n\u001b[0;32m      5\u001b[0m \u001b[0mdata\u001b[0m\u001b[1;33m=\u001b[0m\u001b[0mdf3\u001b[0m\u001b[1;33m.\u001b[0m\u001b[0mloc\u001b[0m\u001b[1;33m[\u001b[0m\u001b[1;33m:\u001b[0m\u001b[1;33m-\u001b[0m\u001b[1;36m5\u001b[0m\u001b[1;33m,\u001b[0m\u001b[1;33m[\u001b[0m\u001b[1;34m'open'\u001b[0m\u001b[1;33m,\u001b[0m\u001b[1;34m'high'\u001b[0m\u001b[1;33m,\u001b[0m\u001b[1;34m'close'\u001b[0m\u001b[1;33m,\u001b[0m\u001b[1;34m'low'\u001b[0m\u001b[1;33m]\u001b[0m\u001b[1;33m]\u001b[0m\u001b[1;33m\u001b[0m\u001b[0m\n\u001b[1;32m----> 6\u001b[1;33m \u001b[0mlabels\u001b[0m \u001b[1;33m=\u001b[0m \u001b[0mdf3\u001b[0m\u001b[1;33m.\u001b[0m\u001b[0miloc\u001b[0m\u001b[1;33m[\u001b[0m\u001b[1;36m5\u001b[0m\u001b[1;33m:\u001b[0m\u001b[1;33m,\u001b[0m\u001b[1;34m'close'\u001b[0m\u001b[1;33m]\u001b[0m\u001b[1;33m\u001b[0m\u001b[0m\n\u001b[0m\u001b[0;32m      7\u001b[0m \u001b[0mx_train\u001b[0m\u001b[1;33m,\u001b[0m \u001b[0mx_test\u001b[0m\u001b[1;33m,\u001b[0m \u001b[0my_train\u001b[0m\u001b[1;33m,\u001b[0m \u001b[0my_test\u001b[0m \u001b[1;33m=\u001b[0m \u001b[0mcross_validation\u001b[0m\u001b[1;33m.\u001b[0m\u001b[0mtrain_test_split\u001b[0m\u001b[1;33m(\u001b[0m\u001b[0mdata\u001b[0m\u001b[1;33m,\u001b[0m\u001b[0mlabels\u001b[0m\u001b[1;33m,\u001b[0m \u001b[0mtest_size\u001b[0m\u001b[1;33m=\u001b[0m\u001b[1;36m0.4\u001b[0m\u001b[1;33m,\u001b[0m \u001b[0mrandom_state\u001b[0m\u001b[1;33m=\u001b[0m\u001b[1;36m1\u001b[0m \u001b[1;33m)\u001b[0m\u001b[1;33m\u001b[0m\u001b[0m\n\u001b[0;32m      8\u001b[0m \u001b[0mknn\u001b[0m \u001b[1;33m=\u001b[0m \u001b[0mKNeighborsRegressor\u001b[0m\u001b[1;33m(\u001b[0m\u001b[0mn_neighbors\u001b[0m\u001b[1;33m=\u001b[0m\u001b[1;36m5\u001b[0m\u001b[1;33m)\u001b[0m\u001b[1;33m\u001b[0m\u001b[0m\n",
      "\u001b[1;32mG:\\Anaconda2\\lib\\site-packages\\pandas\\core\\indexing.pyc\u001b[0m in \u001b[0;36m__getitem__\u001b[1;34m(self, key)\u001b[0m\n\u001b[0;32m   1323\u001b[0m             \u001b[1;32mexcept\u001b[0m \u001b[1;33m(\u001b[0m\u001b[0mKeyError\u001b[0m\u001b[1;33m,\u001b[0m \u001b[0mIndexError\u001b[0m\u001b[1;33m)\u001b[0m\u001b[1;33m:\u001b[0m\u001b[1;33m\u001b[0m\u001b[0m\n\u001b[0;32m   1324\u001b[0m                 \u001b[1;32mpass\u001b[0m\u001b[1;33m\u001b[0m\u001b[0m\n\u001b[1;32m-> 1325\u001b[1;33m             \u001b[1;32mreturn\u001b[0m \u001b[0mself\u001b[0m\u001b[1;33m.\u001b[0m\u001b[0m_getitem_tuple\u001b[0m\u001b[1;33m(\u001b[0m\u001b[0mkey\u001b[0m\u001b[1;33m)\u001b[0m\u001b[1;33m\u001b[0m\u001b[0m\n\u001b[0m\u001b[0;32m   1326\u001b[0m         \u001b[1;32melse\u001b[0m\u001b[1;33m:\u001b[0m\u001b[1;33m\u001b[0m\u001b[0m\n\u001b[0;32m   1327\u001b[0m             \u001b[0mkey\u001b[0m \u001b[1;33m=\u001b[0m \u001b[0mcom\u001b[0m\u001b[1;33m.\u001b[0m\u001b[0m_apply_if_callable\u001b[0m\u001b[1;33m(\u001b[0m\u001b[0mkey\u001b[0m\u001b[1;33m,\u001b[0m \u001b[0mself\u001b[0m\u001b[1;33m.\u001b[0m\u001b[0mobj\u001b[0m\u001b[1;33m)\u001b[0m\u001b[1;33m\u001b[0m\u001b[0m\n",
      "\u001b[1;32mG:\\Anaconda2\\lib\\site-packages\\pandas\\core\\indexing.pyc\u001b[0m in \u001b[0;36m_getitem_tuple\u001b[1;34m(self, tup)\u001b[0m\n\u001b[0;32m   1660\u001b[0m     \u001b[1;32mdef\u001b[0m \u001b[0m_getitem_tuple\u001b[0m\u001b[1;33m(\u001b[0m\u001b[0mself\u001b[0m\u001b[1;33m,\u001b[0m \u001b[0mtup\u001b[0m\u001b[1;33m)\u001b[0m\u001b[1;33m:\u001b[0m\u001b[1;33m\u001b[0m\u001b[0m\n\u001b[0;32m   1661\u001b[0m \u001b[1;33m\u001b[0m\u001b[0m\n\u001b[1;32m-> 1662\u001b[1;33m         \u001b[0mself\u001b[0m\u001b[1;33m.\u001b[0m\u001b[0m_has_valid_tuple\u001b[0m\u001b[1;33m(\u001b[0m\u001b[0mtup\u001b[0m\u001b[1;33m)\u001b[0m\u001b[1;33m\u001b[0m\u001b[0m\n\u001b[0m\u001b[0;32m   1663\u001b[0m         \u001b[1;32mtry\u001b[0m\u001b[1;33m:\u001b[0m\u001b[1;33m\u001b[0m\u001b[0m\n\u001b[0;32m   1664\u001b[0m             \u001b[1;32mreturn\u001b[0m \u001b[0mself\u001b[0m\u001b[1;33m.\u001b[0m\u001b[0m_getitem_lowerdim\u001b[0m\u001b[1;33m(\u001b[0m\u001b[0mtup\u001b[0m\u001b[1;33m)\u001b[0m\u001b[1;33m\u001b[0m\u001b[0m\n",
      "\u001b[1;32mG:\\Anaconda2\\lib\\site-packages\\pandas\\core\\indexing.pyc\u001b[0m in \u001b[0;36m_has_valid_tuple\u001b[1;34m(self, key)\u001b[0m\n\u001b[0;32m    189\u001b[0m             \u001b[1;32mif\u001b[0m \u001b[1;32mnot\u001b[0m \u001b[0mself\u001b[0m\u001b[1;33m.\u001b[0m\u001b[0m_has_valid_type\u001b[0m\u001b[1;33m(\u001b[0m\u001b[0mk\u001b[0m\u001b[1;33m,\u001b[0m \u001b[0mi\u001b[0m\u001b[1;33m)\u001b[0m\u001b[1;33m:\u001b[0m\u001b[1;33m\u001b[0m\u001b[0m\n\u001b[0;32m    190\u001b[0m                 raise ValueError(\"Location based indexing can only have [%s] \"\n\u001b[1;32m--> 191\u001b[1;33m                                  \"types\" % self._valid_types)\n\u001b[0m\u001b[0;32m    192\u001b[0m \u001b[1;33m\u001b[0m\u001b[0m\n\u001b[0;32m    193\u001b[0m     \u001b[1;32mdef\u001b[0m \u001b[0m_should_validate_iterable\u001b[0m\u001b[1;33m(\u001b[0m\u001b[0mself\u001b[0m\u001b[1;33m,\u001b[0m \u001b[0maxis\u001b[0m\u001b[1;33m=\u001b[0m\u001b[1;36m0\u001b[0m\u001b[1;33m)\u001b[0m\u001b[1;33m:\u001b[0m\u001b[1;33m\u001b[0m\u001b[0m\n",
      "\u001b[1;31mValueError\u001b[0m: Location based indexing can only have [integer, integer slice (START point is INCLUDED, END point is EXCLUDED), listlike of integers, boolean array] types"
     ]
    }
   ],
   "source": [
    "from sklearn.neighbors import KNeighborsClassifier\n",
    "from sklearn import cross_validation\n",
    "from sklearn.neighbors import KNeighborsRegressor\n",
    "\n",
    "data=df3.loc[:-5,['open','high','close','low']]\n",
    "labels = df3.iloc[5:,'close']\n",
    "x_train, x_test, y_train, y_test = cross_validation.train_test_split(data,labels, test_size=0.4, random_state=1 )\n",
    "knn = KNeighborsRegressor(n_neighbors=5)\n",
    "knn.fit(x_train,y_train)\n",
    "knn.predict(x_test)\n",
    "o\n",
    "# len(df3[:-5])\n",
    "# len(df3)"
   ]
  },
  {
   "cell_type": "code",
   "execution_count": 76,
   "metadata": {},
   "outputs": [
    {
     "name": "stdout",
     "output_type": "stream",
     "text": [
      "Empty DataFrame\n",
      "Columns: [open, high, close, low]\n",
      "Index: []\n"
     ]
    }
   ],
   "source": [
    "data=df3.loc[0:2,['open','high','close','low']]\n",
    "print data"
   ]
  },
  {
   "cell_type": "code",
   "execution_count": 82,
   "metadata": {},
   "outputs": [
    {
     "name": "stdout",
     "output_type": "stream",
     "text": [
      "Empty DataFrame\n",
      "Columns: [open, high]\n",
      "Index: []\n",
      "            date     open     high    close      low      volume  \\\n",
      "3849  2016-07-01  129.020  129.255  126.749  126.436  45010621.0   \n",
      "3848  2016-07-04  125.340  130.272  128.785  125.105  55099264.0   \n",
      "3847  2016-07-05  128.785  130.429  128.550  127.454  47048960.0   \n",
      "3846  2016-07-06  127.610  130.585  129.176  126.671  58852984.0   \n",
      "3845  2016-07-07  128.471  128.628  126.906  125.105  47220315.0   \n",
      "\n",
      "      trade_amount  fuquan_factor  \n",
      "3849   734360124.0          7.829  \n",
      "3848   903420999.0          7.829  \n",
      "3847   774083082.0          7.829  \n",
      "3846   965008302.0          7.829  \n",
      "3845   766097871.0          7.829  \n"
     ]
    }
   ],
   "source": [
    "print df3.loc[0:2,['open','high']]\n",
    "# print data.head()\n",
    "print df3.head()"
   ]
  },
  {
   "cell_type": "code",
   "execution_count": 40,
   "metadata": {
    "collapsed": true
   },
   "outputs": [
    {
     "data": {
      "text/html": [
       "<div>\n",
       "<style>\n",
       "    .dataframe thead tr:only-child th {\n",
       "        text-align: right;\n",
       "    }\n",
       "\n",
       "    .dataframe thead th {\n",
       "        text-align: left;\n",
       "    }\n",
       "\n",
       "    .dataframe tbody tr th {\n",
       "        vertical-align: top;\n",
       "    }\n",
       "</style>\n",
       "<table border=\"1\" class=\"dataframe\">\n",
       "  <thead>\n",
       "    <tr style=\"text-align: right;\">\n",
       "      <th></th>\n",
       "      <th>open</th>\n",
       "      <th>high</th>\n",
       "      <th>close</th>\n",
       "      <th>low</th>\n",
       "    </tr>\n",
       "  </thead>\n",
       "  <tbody>\n",
       "    <tr>\n",
       "      <th>3834</th>\n",
       "      <td>140.640</td>\n",
       "      <td>145.035</td>\n",
       "      <td>143.151</td>\n",
       "      <td>137.500</td>\n",
       "    </tr>\n",
       "    <tr>\n",
       "      <th>3839</th>\n",
       "      <td>137.422</td>\n",
       "      <td>139.620</td>\n",
       "      <td>136.009</td>\n",
       "      <td>133.263</td>\n",
       "    </tr>\n",
       "    <tr>\n",
       "      <th>3846</th>\n",
       "      <td>127.610</td>\n",
       "      <td>130.585</td>\n",
       "      <td>129.176</td>\n",
       "      <td>126.671</td>\n",
       "    </tr>\n",
       "    <tr>\n",
       "      <th>3831</th>\n",
       "      <td>150.058</td>\n",
       "      <td>153.982</td>\n",
       "      <td>142.837</td>\n",
       "      <td>138.756</td>\n",
       "    </tr>\n",
       "    <tr>\n",
       "      <th>3832</th>\n",
       "      <td>150.842</td>\n",
       "      <td>155.316</td>\n",
       "      <td>151.392</td>\n",
       "      <td>149.430</td>\n",
       "    </tr>\n",
       "    <tr>\n",
       "      <th>3835</th>\n",
       "      <td>139.698</td>\n",
       "      <td>143.230</td>\n",
       "      <td>140.483</td>\n",
       "      <td>139.698</td>\n",
       "    </tr>\n",
       "    <tr>\n",
       "      <th>3833</th>\n",
       "      <td>141.895</td>\n",
       "      <td>156.650</td>\n",
       "      <td>153.511</td>\n",
       "      <td>141.346</td>\n",
       "    </tr>\n",
       "    <tr>\n",
       "      <th>3845</th>\n",
       "      <td>128.471</td>\n",
       "      <td>128.628</td>\n",
       "      <td>126.906</td>\n",
       "      <td>125.105</td>\n",
       "    </tr>\n",
       "    <tr>\n",
       "      <th>3847</th>\n",
       "      <td>128.785</td>\n",
       "      <td>130.429</td>\n",
       "      <td>128.550</td>\n",
       "      <td>127.454</td>\n",
       "    </tr>\n",
       "  </tbody>\n",
       "</table>\n",
       "</div>"
      ],
      "text/plain": [
       "         open     high    close      low\n",
       "3834  140.640  145.035  143.151  137.500\n",
       "3839  137.422  139.620  136.009  133.263\n",
       "3846  127.610  130.585  129.176  126.671\n",
       "3831  150.058  153.982  142.837  138.756\n",
       "3832  150.842  155.316  151.392  149.430\n",
       "3835  139.698  143.230  140.483  139.698\n",
       "3833  141.895  156.650  153.511  141.346\n",
       "3845  128.471  128.628  126.906  125.105\n",
       "3847  128.785  130.429  128.550  127.454"
      ]
     },
     "execution_count": 40,
     "metadata": {},
     "output_type": "execute_result"
    }
   ],
   "source": [
    "x_test"
   ]
  },
  {
   "cell_type": "code",
   "execution_count": 33,
   "metadata": {
    "collapsed": true
   },
   "outputs": [
    {
     "ename": "ValueError",
     "evalue": "invalid literal for float(): 2016-07-29",
     "output_type": "error",
     "traceback": [
      "\u001b[1;31m\u001b[0m",
      "\u001b[1;31mValueError\u001b[0mTraceback (most recent call last)",
      "\u001b[1;32m<ipython-input-33-90163a6d5490>\u001b[0m in \u001b[0;36m<module>\u001b[1;34m()\u001b[0m\n\u001b[0;32m      1\u001b[0m \u001b[1;32mfrom\u001b[0m \u001b[0msklearn\u001b[0m \u001b[1;32mimport\u001b[0m \u001b[0mpreprocessing\u001b[0m\u001b[1;33m\u001b[0m\u001b[0m\n\u001b[0;32m      2\u001b[0m \u001b[0mX\u001b[0m\u001b[1;33m=\u001b[0m\u001b[0mdf3\u001b[0m\u001b[1;33m\u001b[0m\u001b[0m\n\u001b[1;32m----> 3\u001b[1;33m \u001b[0mX_scaled\u001b[0m \u001b[1;33m=\u001b[0m \u001b[0mpreprocessing\u001b[0m\u001b[1;33m.\u001b[0m\u001b[0mscale\u001b[0m\u001b[1;33m(\u001b[0m\u001b[0mX\u001b[0m\u001b[1;33m)\u001b[0m\u001b[1;33m\u001b[0m\u001b[0m\n\u001b[0m\u001b[0;32m      4\u001b[0m \u001b[1;31m#X_scaled = X\u001b[0m\u001b[1;33m\u001b[0m\u001b[1;33m\u001b[0m\u001b[0m\n\u001b[0;32m      5\u001b[0m \u001b[1;33m\u001b[0m\u001b[0m\n",
      "\u001b[1;32mG:\\Anaconda2\\lib\\site-packages\\sklearn\\preprocessing\\data.pyc\u001b[0m in \u001b[0;36mscale\u001b[1;34m(X, axis, with_mean, with_std, copy)\u001b[0m\n\u001b[0;32m    131\u001b[0m     X = check_array(X, accept_sparse='csc', copy=copy, ensure_2d=False,\n\u001b[0;32m    132\u001b[0m                     \u001b[0mwarn_on_dtype\u001b[0m\u001b[1;33m=\u001b[0m\u001b[0mTrue\u001b[0m\u001b[1;33m,\u001b[0m \u001b[0mestimator\u001b[0m\u001b[1;33m=\u001b[0m\u001b[1;34m'the scale function'\u001b[0m\u001b[1;33m,\u001b[0m\u001b[1;33m\u001b[0m\u001b[0m\n\u001b[1;32m--> 133\u001b[1;33m                     dtype=FLOAT_DTYPES)\n\u001b[0m\u001b[0;32m    134\u001b[0m     \u001b[1;32mif\u001b[0m \u001b[0msparse\u001b[0m\u001b[1;33m.\u001b[0m\u001b[0missparse\u001b[0m\u001b[1;33m(\u001b[0m\u001b[0mX\u001b[0m\u001b[1;33m)\u001b[0m\u001b[1;33m:\u001b[0m\u001b[1;33m\u001b[0m\u001b[0m\n\u001b[0;32m    135\u001b[0m         \u001b[1;32mif\u001b[0m \u001b[0mwith_mean\u001b[0m\u001b[1;33m:\u001b[0m\u001b[1;33m\u001b[0m\u001b[0m\n",
      "\u001b[1;32mG:\\Anaconda2\\lib\\site-packages\\sklearn\\utils\\validation.pyc\u001b[0m in \u001b[0;36mcheck_array\u001b[1;34m(array, accept_sparse, dtype, order, copy, force_all_finite, ensure_2d, allow_nd, ensure_min_samples, ensure_min_features, warn_on_dtype, estimator)\u001b[0m\n\u001b[0;32m    400\u001b[0m                                       force_all_finite)\n\u001b[0;32m    401\u001b[0m     \u001b[1;32melse\u001b[0m\u001b[1;33m:\u001b[0m\u001b[1;33m\u001b[0m\u001b[0m\n\u001b[1;32m--> 402\u001b[1;33m         \u001b[0marray\u001b[0m \u001b[1;33m=\u001b[0m \u001b[0mnp\u001b[0m\u001b[1;33m.\u001b[0m\u001b[0marray\u001b[0m\u001b[1;33m(\u001b[0m\u001b[0marray\u001b[0m\u001b[1;33m,\u001b[0m \u001b[0mdtype\u001b[0m\u001b[1;33m=\u001b[0m\u001b[0mdtype\u001b[0m\u001b[1;33m,\u001b[0m \u001b[0morder\u001b[0m\u001b[1;33m=\u001b[0m\u001b[0morder\u001b[0m\u001b[1;33m,\u001b[0m \u001b[0mcopy\u001b[0m\u001b[1;33m=\u001b[0m\u001b[0mcopy\u001b[0m\u001b[1;33m)\u001b[0m\u001b[1;33m\u001b[0m\u001b[0m\n\u001b[0m\u001b[0;32m    403\u001b[0m \u001b[1;33m\u001b[0m\u001b[0m\n\u001b[0;32m    404\u001b[0m         \u001b[1;32mif\u001b[0m \u001b[0mensure_2d\u001b[0m\u001b[1;33m:\u001b[0m\u001b[1;33m\u001b[0m\u001b[0m\n",
      "\u001b[1;31mValueError\u001b[0m: invalid literal for float(): 2016-07-29"
     ]
    }
   ],
   "source": [
    "from sklearn import preprocessing\n",
    "X=df3\n",
    "X_scaled = preprocessing.scale(X)\n",
    "#X_scaled = X\n",
    "\n",
    "nbrs = NearestNeighbors(n_neighbors=10, algorithm='ball_tree').fit(X_scaled)\n",
    "distances, indices = nbrs.kneighbors(X_scaled)\n",
    "print distances[0]"
   ]
  },
  {
   "cell_type": "code",
   "execution_count": 29,
   "metadata": {},
   "outputs": [
    {
     "data": {
      "text/plain": [
       "21"
      ]
     },
     "execution_count": 29,
     "metadata": {},
     "output_type": "execute_result"
    }
   ],
   "source": [
    "len(df3[:-5])\n",
    "len(df3)\n",
    "#print df3.close[5:]"
   ]
  }
 ],
 "metadata": {
  "kernelspec": {
   "display_name": "Python 2",
   "language": "python",
   "name": "python2"
  },
  "language_info": {
   "codemirror_mode": {
    "name": "ipython",
    "version": 2
   },
   "file_extension": ".py",
   "mimetype": "text/x-python",
   "name": "python",
   "nbconvert_exporter": "python",
   "pygments_lexer": "ipython2",
   "version": "2.7.13"
  }
 },
 "nbformat": 4,
 "nbformat_minor": 2
}

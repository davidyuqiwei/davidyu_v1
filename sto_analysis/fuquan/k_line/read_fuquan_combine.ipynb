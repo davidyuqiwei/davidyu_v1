{
 "cells": [
  {
   "cell_type": "code",
   "execution_count": 2,
   "metadata": {},
   "outputs": [
    {
     "name": "stdout",
     "output_type": "stream",
     "text": [
      "the path define is in G:\\stock\\code\\package_path_define\n"
     ]
    }
   ],
   "source": [
    "### this script read fuquan combine data\n",
    "from package_path_define.path_define import *\n",
    "# from package_readdata.read_data import find_stocks_in_date_range_fuquan\n",
    "from package_readdata.read_data import read_vol_price_data_fuquan"
   ]
  },
  {
   "cell_type": "code",
   "execution_count": null,
   "metadata": {
    "collapsed": true
   },
   "outputs": [],
   "source": [
    "# market='shenzhen'\n",
    "# path1='\\\\'.join([main_path_data,'fuquan_combine',market])"
   ]
  },
  {
   "cell_type": "code",
   "execution_count": 19,
   "metadata": {},
   "outputs": [],
   "source": [
    "def read_fuquan_combine(stk_num):\n",
    "    if stk_num.startswith('00'):\n",
    "        market='shenzhen'\n",
    "    elif stk_num.startswith('60'):\n",
    "        market='shanghai'\n",
    "    ### find which market and get the path\n",
    "    path1='\\\\'.join([main_path_data,'fuquan_combine',market])\n",
    "    ### set the file full path\n",
    "    file_in1='%s_fuquan_all.csv' %stk_num\n",
    "    file_in='\\\\'.join([path1,file_in1])\n",
    "    print file_in\n",
    "    try:\n",
    "        df1=read_vol_price_data_fuquan(file_in)\n",
    "        #df2=data_df1\n",
    "        df2=df1.sort_values(by=['date'])\n",
    "        data_df1=df2.reset_index(drop=True)\n",
    "        return data_df1\n",
    "    except Exception,e:\n",
    "        #pass\n",
    "        print Exception,\":\",e"
   ]
  },
  {
   "cell_type": "code",
   "execution_count": 20,
   "metadata": {},
   "outputs": [
    {
     "name": "stdout",
     "output_type": "stream",
     "text": [
      "G:\\\\stock\\\\data\\fuquan_combine\\shenzhen\\000917_fuquan_all.csv\n",
      "         date   open   high  close    low      volume  trade_amount  \\\n",
      "0  1999-03-25  19.01  20.38  18.99  18.90  32064800.0   629395704.0   \n",
      "1  1999-03-26  18.90  19.46  18.26  18.02   8322600.0   156266563.0   \n",
      "2  1999-03-29  18.20  18.47  18.01  17.71   3945300.0    70956198.0   \n",
      "3  1999-03-30  18.05  18.55  18.29  17.75   2168600.0    39468139.0   \n",
      "4  1999-03-31  18.28  18.59  18.26  18.02   1406700.0    25762359.0   \n",
      "\n",
      "   fuquan_factor  \n",
      "0            1.0  \n",
      "1            1.0  \n",
      "2            1.0  \n",
      "3            1.0  \n",
      "4            1.0  \n"
     ]
    }
   ],
   "source": [
    "stk_num='000917'\n",
    "data1=read_fuquan_combine(stk_num)\n",
    "print data1.head()"
   ]
  },
  {
   "cell_type": "code",
   "execution_count": 15,
   "metadata": {},
   "outputs": [
    {
     "name": "stdout",
     "output_type": "stream",
     "text": [
      "yeas\n"
     ]
    }
   ],
   "source": [
    "stk_num='000917'\n",
    "if stk_num.startswith('00'):\n",
    "    print 'yeas'"
   ]
  }
 ],
 "metadata": {
  "kernelspec": {
   "display_name": "Python 2",
   "language": "python",
   "name": "python2"
  },
  "language_info": {
   "codemirror_mode": {
    "name": "ipython",
    "version": 2
   },
   "file_extension": ".py",
   "mimetype": "text/x-python",
   "name": "python",
   "nbconvert_exporter": "python",
   "pygments_lexer": "ipython2",
   "version": "2.7.13"
  }
 },
 "nbformat": 4,
 "nbformat_minor": 2
}

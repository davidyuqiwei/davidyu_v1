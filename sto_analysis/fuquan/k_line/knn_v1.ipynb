{
 "cells": [
  {
   "cell_type": "code",
   "execution_count": 9,
   "metadata": {},
   "outputs": [
    {
     "name": "stdout",
     "output_type": "stream",
     "text": [
      "G:\\\\stock\\\\data\\fuquan_combine\\shenzhen\\000917_fuquan_all.csv\n",
      "         date   open   high  close    low      volume  trade_amount  \\\n",
      "0  1999-03-25  19.01  20.38  18.99  18.90  32064800.0   629395704.0   \n",
      "1  1999-03-26  18.90  19.46  18.26  18.02   8322600.0   156266563.0   \n",
      "2  1999-03-29  18.20  18.47  18.01  17.71   3945300.0    70956198.0   \n",
      "3  1999-03-30  18.05  18.55  18.29  17.75   2168600.0    39468139.0   \n",
      "4  1999-03-31  18.28  18.59  18.26  18.02   1406700.0    25762359.0   \n",
      "\n",
      "   fuquan_factor  \n",
      "0            1.0  \n",
      "1            1.0  \n",
      "2            1.0  \n",
      "3            1.0  \n",
      "4            1.0  \n"
     ]
    }
   ],
   "source": [
    "from read_fuquan_combine import *\n",
    "from sklearn.neighbors import KNeighborsClassifier\n",
    "from sklearn import cross_validation\n",
    "from sklearn.neighbors import KNeighborsRegressor\n",
    "\n",
    "stk_num='000917'\n",
    "data_df1=read_fuquan_combine(stk_num)\n",
    "print data_df1.head()"
   ]
  },
  {
   "cell_type": "code",
   "execution_count": 20,
   "metadata": {},
   "outputs": [
    {
     "name": "stdout",
     "output_type": "stream",
     "text": [
      "3910\n"
     ]
    },
    {
     "data": {
      "text/plain": [
       "KNeighborsRegressor(algorithm='auto', leaf_size=30, metric='minkowski',\n",
       "          metric_params=None, n_jobs=1, n_neighbors=5, p=2,\n",
       "          weights='uniform')"
      ]
     },
     "execution_count": 20,
     "metadata": {},
     "output_type": "execute_result"
    }
   ],
   "source": [
    "date1='2012-01-01'\n",
    "date2='2016-07-31'\n",
    "df3=data_df1[(data_df1.date>=date1)&(data_df1.date<=date2)]\n",
    "df3=df3.reset_index(drop=True)\n",
    "# print df3.head()\n",
    "# print len(df3)\n",
    "# data=df3.loc[4:,['open','high','close','low']]\n",
    "# print data.head()\n",
    "# print len(data)\n",
    "len1=len(df3)\n",
    "\n",
    "print len(data1)\n",
    "\n",
    "set_num=3\n",
    "set_num1=len1-set_num-1\n",
    "\n",
    "data=df3.loc[set_num:,['open','high','close','low']]\n",
    "labels =df3.loc[0:set_num1,['close']]\n",
    "x_train, x_test, y_train, y_test = cross_validation.train_test_split(data,labels, test_size=0.4, random_state=1 )\n",
    "knn = KNeighborsRegressor(n_neighbors=5)\n",
    "knn.fit(x_train,y_train)"
   ]
  },
  {
   "cell_type": "code",
   "execution_count": 33,
   "metadata": {},
   "outputs": [
    {
     "name": "stdout",
     "output_type": "stream",
     "text": [
      "<bound method KNeighborsRegressor.fit of KNeighborsRegressor(algorithm='auto', leaf_size=30, metric='minkowski',\n",
      "          metric_params=None, n_jobs=1, n_neighbors=5, p=2,\n",
      "          weights='uniform')>\n"
     ]
    }
   ],
   "source": [
    "k1=knn.fit(x_train,y_train)\n",
    "print k1.fit"
   ]
  },
  {
   "cell_type": "code",
   "execution_count": 21,
   "metadata": {},
   "outputs": [
    {
     "data": {
      "image/png": "[encoded data removed]",
      "text/plain": [
       "<matplotlib.figure.Figure at 0xfcb33c8>"
      ]
     },
     "metadata": {},
     "output_type": "display_data"
    },
    {
     "name": "stdout",
     "output_type": "stream",
     "text": [
      "373\n"
     ]
    }
   ],
   "source": [
    "import matplotlib.pyplot as plt\n",
    "p_x=knn.predict(x_test)\n",
    "y_x=y_test\n",
    "plt.figure()\n",
    "plt.scatter(y_x,p_x)\n",
    "plt.show()\n",
    "print len(y_x)"
   ]
  },
  {
   "cell_type": "code",
   "execution_count": null,
   "metadata": {
    "collapsed": true
   },
   "outputs": [],
   "source": [
    "## loop to find the market stock index\n",
    "market='shenzhen'\n",
    "stock_index_file=\"shanghai_shenzhen_data_from_2013\"\n",
    "stock_path='\\\\'.join([main_path_data,stock_index_file,market])\n",
    "sto2=os.listdir(stock_path)"
   ]
  }
 ],
 "metadata": {
  "kernelspec": {
   "display_name": "Python 2",
   "language": "python",
   "name": "python2"
  },
  "language_info": {
   "codemirror_mode": {
    "name": "ipython",
    "version": 2
   },
   "file_extension": ".py",
   "mimetype": "text/x-python",
   "name": "python",
   "nbconvert_exporter": "python",
   "pygments_lexer": "ipython2",
   "version": "2.7.13"
  }
 },
 "nbformat": 4,
 "nbformat_minor": 2
}

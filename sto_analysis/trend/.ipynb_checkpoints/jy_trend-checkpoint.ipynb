{
 "cells": [
  {
   "cell_type": "code",
   "execution_count": 5,
   "metadata": {
    "collapsed": true
   },
   "outputs": [],
   "source": [
    "# %load trend_v3.py\n",
    "import os\n",
    "import sys\n",
    "from load_path import *\n",
    "from package1.path import *\n",
    "import numpy as np\n",
    "import pandas as pd\n",
    "import datetime\n",
    "#from numpy._distributor_init import NUMPY_MKL\n",
    "from sklearn.cluster import KMeans\n",
    "import re\n",
    "market='shenzhen'\n",
    "from datetime import datetime\n",
    "#stock_path=os.path.join(stock_index_path,market)\n",
    "from package_readdata.read_data import *\n",
    "import matplotlib.pyplot as plt\n",
    "from sklearn import datasets,linear_model\n",
    "from sklearn.metrics import mean_squared_error, r2_score\n",
    "import itertools\n",
    "\n",
    "\n",
    "## set time input\n",
    "date1=datetime(2017,8,20).strftime('%Y-%m-%d')\n",
    "date2=datetime(2017,9,6).strftime('%Y-%m-%d')\n",
    "stk_num=\"000001\"\n",
    "stock_path1=os.path.join(vol_price_path,market,stk_num)\n",
    "stk_list=os.listdir(stock_path1)"
   ]
  },
  {
   "cell_type": "code",
   "execution_count": 6,
   "metadata": {},
   "outputs": [
    {
     "name": "stdout",
     "output_type": "stream",
     "text": [
      "fuck\n",
      "fuck\n",
      "fuck\n",
      "Coefficients: \n",
      "[[  6.18801424e-05]]\n"
     ]
    },
    {
     "data": {
      "image/png": "[encoded data removed]",
      "text/plain": [
       "<matplotlib.figure.Figure at 0x6b45358>"
      ]
     },
     "metadata": {},
     "output_type": "display_data"
    }
   ],
   "source": [
    "num_in=find_stock_in_date_range(stk_num,date1,date2)\n",
    "#print num_in\n",
    "\n",
    "price1=[]\n",
    "for fi1 in num_in:\n",
    "    try:\n",
    "        data_file=\"g:/stock/data/daily_price_volume/shenzhen/%s/%s\" % (stk_num,stk_list[fi1])\n",
    "        df1=read_vol_price_data(data_file)\n",
    "        price1=df1.price\n",
    "        #print df1.head\n",
    "    except:\n",
    "        print 'fuck'\n",
    "\n",
    "#print(__doc__)\n",
    "###---------- linear regression input data\n",
    "price2 = np.array(list(itertools.chain(price1)))  ## merge multiple list into one\n",
    "x_input1=np.array(range(0,len(price2)))\n",
    "x_input=x_input1.reshape(-1, 1)\n",
    "y_input=price2.reshape(-1, 1)\n",
    "regr = linear_model.LinearRegression()\n",
    "regr.fit(x_input,y_input)\n",
    "print 'Coefficients: \\n', regr.coef_\n",
    "#print 'coe: \\n'\n",
    "\n",
    "\n",
    "plt.scatter(x_input, y_input,  color='black')\n",
    "plt.plot(x_input, regr.predict(x_input),color='red', linewidth=4)\n",
    "plt.show()"
   ]
  },
  {
   "cell_type": "code",
   "execution_count": null,
   "metadata": {
    "collapsed": true
   },
   "outputs": [],
   "source": []
  },
  {
   "cell_type": "code",
   "execution_count": null,
   "metadata": {
    "collapsed": true
   },
   "outputs": [],
   "source": []
  },
  {
   "cell_type": "code",
   "execution_count": null,
   "metadata": {
    "collapsed": true
   },
   "outputs": [],
   "source": []
  }
 ],
 "metadata": {
  "kernelspec": {
   "display_name": "Python 2",
   "language": "python",
   "name": "python2"
  },
  "language_info": {
   "codemirror_mode": {
    "name": "ipython",
    "version": 2
   },
   "file_extension": ".py",
   "mimetype": "text/x-python",
   "name": "python",
   "nbconvert_exporter": "python",
   "pygments_lexer": "ipython2",
   "version": "2.7.13"
  }
 },
 "nbformat": 4,
 "nbformat_minor": 2
}
